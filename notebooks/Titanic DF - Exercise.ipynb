{
 "cells": [
  {
   "cell_type": "code",
   "execution_count": 1,
   "metadata": {},
   "outputs": [],
   "source": [
    "import pyspark\n",
    "sc = pyspark.SparkContext('local[*]')"
   ]
  },
  {
   "cell_type": "code",
   "execution_count": 2,
   "metadata": {},
   "outputs": [],
   "source": [
    "!rm -rf metastore_db/*.lck # deletes locks\n",
    "\n",
    "from pyspark.sql import SQLContext\n",
    "sqlc = SQLContext(sc)"
   ]
  },
  {
   "cell_type": "markdown",
   "metadata": {},
   "source": [
    "### Step 1\n",
    "- Load the train and test sets\n",
    "- Check the schema, the variables have their right types?\n",
    "- If not, how to correctly load the datasets?"
   ]
  },
  {
   "cell_type": "code",
   "execution_count": 3,
   "metadata": {},
   "outputs": [
    {
     "name": "stdout",
     "output_type": "stream",
     "text": [
      "root\n",
      " |-- PassengerId: integer (nullable = true)\n",
      " |-- Survived: integer (nullable = true)\n",
      " |-- Pclass: integer (nullable = true)\n",
      " |-- Name: string (nullable = true)\n",
      " |-- Sex: string (nullable = true)\n",
      " |-- Age: double (nullable = true)\n",
      " |-- SibSp: integer (nullable = true)\n",
      " |-- Parch: integer (nullable = true)\n",
      " |-- Ticket: string (nullable = true)\n",
      " |-- Fare: double (nullable = true)\n",
      " |-- Cabin: string (nullable = true)\n",
      " |-- Embarked: string (nullable = true)\n",
      "\n",
      "+-----------+--------+------+--------------------+------+----+-----+-----+----------------+-------+-----+--------+\n",
      "|PassengerId|Survived|Pclass|                Name|   Sex| Age|SibSp|Parch|          Ticket|   Fare|Cabin|Embarked|\n",
      "+-----------+--------+------+--------------------+------+----+-----+-----+----------------+-------+-----+--------+\n",
      "|          1|       0|     3|Braund, Mr. Owen ...|  male|22.0|    1|    0|       A/5 21171|   7.25| null|       S|\n",
      "|          2|       1|     1|Cumings, Mrs. Joh...|female|38.0|    1|    0|        PC 17599|71.2833|  C85|       C|\n",
      "|          3|       1|     3|Heikkinen, Miss. ...|female|26.0|    0|    0|STON/O2. 3101282|  7.925| null|       S|\n",
      "|          4|       1|     1|Futrelle, Mrs. Ja...|female|35.0|    1|    0|          113803|   53.1| C123|       S|\n",
      "|          5|       0|     3|Allen, Mr. Willia...|  male|35.0|    0|    0|          373450|   8.05| null|       S|\n",
      "|          6|       0|     3|    Moran, Mr. James|  male|null|    0|    0|          330877| 8.4583| null|       Q|\n",
      "|          7|       0|     1|McCarthy, Mr. Tim...|  male|54.0|    0|    0|           17463|51.8625|  E46|       S|\n",
      "|          8|       0|     3|Palsson, Master. ...|  male| 2.0|    3|    1|          349909| 21.075| null|       S|\n",
      "|          9|       1|     3|Johnson, Mrs. Osc...|female|27.0|    0|    2|          347742|11.1333| null|       S|\n",
      "|         10|       1|     2|Nasser, Mrs. Nich...|female|14.0|    1|    0|          237736|30.0708| null|       C|\n",
      "|         11|       1|     3|Sandstrom, Miss. ...|female| 4.0|    1|    1|         PP 9549|   16.7|   G6|       S|\n",
      "|         12|       1|     1|Bonnell, Miss. El...|female|58.0|    0|    0|          113783|  26.55| C103|       S|\n",
      "|         13|       0|     3|Saundercock, Mr. ...|  male|20.0|    0|    0|       A/5. 2151|   8.05| null|       S|\n",
      "|         14|       0|     3|Andersson, Mr. An...|  male|39.0|    1|    5|          347082| 31.275| null|       S|\n",
      "|         15|       0|     3|Vestrom, Miss. Hu...|female|14.0|    0|    0|          350406| 7.8542| null|       S|\n",
      "|         16|       1|     2|Hewlett, Mrs. (Ma...|female|55.0|    0|    0|          248706|   16.0| null|       S|\n",
      "|         17|       0|     3|Rice, Master. Eugene|  male| 2.0|    4|    1|          382652| 29.125| null|       Q|\n",
      "|         18|       1|     2|Williams, Mr. Cha...|  male|null|    0|    0|          244373|   13.0| null|       S|\n",
      "|         19|       0|     3|Vander Planke, Mr...|female|31.0|    1|    0|          345763|   18.0| null|       S|\n",
      "|         20|       1|     3|Masselmani, Mrs. ...|female|null|    0|    0|            2649|  7.225| null|       C|\n",
      "+-----------+--------+------+--------------------+------+----+-----+-----+----------------+-------+-----+--------+\n",
      "only showing top 20 rows\n",
      "\n",
      "root\n",
      " |-- PassengerId: integer (nullable = true)\n",
      " |-- Pclass: integer (nullable = true)\n",
      " |-- Name: string (nullable = true)\n",
      " |-- Sex: string (nullable = true)\n",
      " |-- Age: double (nullable = true)\n",
      " |-- SibSp: integer (nullable = true)\n",
      " |-- Parch: integer (nullable = true)\n",
      " |-- Ticket: string (nullable = true)\n",
      " |-- Fare: double (nullable = true)\n",
      " |-- Cabin: string (nullable = true)\n",
      " |-- Embarked: string (nullable = true)\n",
      "\n",
      "+-----------+------+--------------------+------+----+-----+-----+----------------+-------+-----+--------+\n",
      "|PassengerId|Pclass|                Name|   Sex| Age|SibSp|Parch|          Ticket|   Fare|Cabin|Embarked|\n",
      "+-----------+------+--------------------+------+----+-----+-----+----------------+-------+-----+--------+\n",
      "|        892|     3|    Kelly, Mr. James|  male|34.5|    0|    0|          330911| 7.8292| null|       Q|\n",
      "|        893|     3|Wilkes, Mrs. Jame...|female|47.0|    1|    0|          363272|    7.0| null|       S|\n",
      "|        894|     2|Myles, Mr. Thomas...|  male|62.0|    0|    0|          240276| 9.6875| null|       Q|\n",
      "|        895|     3|    Wirz, Mr. Albert|  male|27.0|    0|    0|          315154| 8.6625| null|       S|\n",
      "|        896|     3|Hirvonen, Mrs. Al...|female|22.0|    1|    1|         3101298|12.2875| null|       S|\n",
      "|        897|     3|Svensson, Mr. Joh...|  male|14.0|    0|    0|            7538|  9.225| null|       S|\n",
      "|        898|     3|Connolly, Miss. Kate|female|30.0|    0|    0|          330972| 7.6292| null|       Q|\n",
      "|        899|     2|Caldwell, Mr. Alb...|  male|26.0|    1|    1|          248738|   29.0| null|       S|\n",
      "|        900|     3|Abrahim, Mrs. Jos...|female|18.0|    0|    0|            2657| 7.2292| null|       C|\n",
      "|        901|     3|Davies, Mr. John ...|  male|21.0|    2|    0|       A/4 48871|  24.15| null|       S|\n",
      "|        902|     3|    Ilieff, Mr. Ylio|  male|null|    0|    0|          349220| 7.8958| null|       S|\n",
      "|        903|     1|Jones, Mr. Charle...|  male|46.0|    0|    0|             694|   26.0| null|       S|\n",
      "|        904|     1|Snyder, Mrs. John...|female|23.0|    1|    0|           21228|82.2667|  B45|       S|\n",
      "|        905|     2|Howard, Mr. Benjamin|  male|63.0|    1|    0|           24065|   26.0| null|       S|\n",
      "|        906|     1|Chaffee, Mrs. Her...|female|47.0|    1|    0|     W.E.P. 5734| 61.175|  E31|       S|\n",
      "|        907|     2|del Carlo, Mrs. S...|female|24.0|    1|    0|   SC/PARIS 2167|27.7208| null|       C|\n",
      "|        908|     2|   Keane, Mr. Daniel|  male|35.0|    0|    0|          233734|  12.35| null|       Q|\n",
      "|        909|     3|   Assaf, Mr. Gerios|  male|21.0|    0|    0|            2692|  7.225| null|       C|\n",
      "|        910|     3|Ilmakangas, Miss....|female|27.0|    1|    0|STON/O2. 3101270|  7.925| null|       S|\n",
      "|        911|     3|\"Assaf Khalil, Mr...|female|45.0|    0|    0|            2696|  7.225| null|       C|\n",
      "+-----------+------+--------------------+------+----+-----+-----+----------------+-------+-----+--------+\n",
      "only showing top 20 rows\n",
      "\n"
     ]
    }
   ],
   "source": [
    "### INSERT YOUR CODE HERE\n",
    "df_train = sqlc.read.format('com.databricks.spark.csv')\\\n",
    "    .option('header', 'true')\\\n",
    "    .option('inferschema', 'true')\\\n",
    "    .load('train.csv')\n",
    "    \n",
    "df_test = sqlc.read.format('com.databricks.spark.csv')\\\n",
    "    .option('header', 'true')\\\n",
    "    .option('inferschema', 'true')\\\n",
    "    .load('test.csv')\n",
    "    \n",
    "df_train.printSchema()\n",
    "df_train.show()\n",
    "\n",
    "df_test.printSchema()\n",
    "df_test.show()"
   ]
  },
  {
   "cell_type": "code",
   "execution_count": 4,
   "metadata": {},
   "outputs": [
    {
     "ename": "ModuleNotFoundError",
     "evalue": "No module named 'handyspark'",
     "output_type": "error",
     "traceback": [
      "\u001b[0;31m---------------------------------------------------------------------------\u001b[0m",
      "\u001b[0;31mModuleNotFoundError\u001b[0m                       Traceback (most recent call last)",
      "\u001b[0;32m<ipython-input-4-2bcb3bf39cbd>\u001b[0m in \u001b[0;36m<module>\u001b[0;34m()\u001b[0m\n\u001b[1;32m     31\u001b[0m \u001b[0;34m\u001b[0m\u001b[0m\n\u001b[1;32m     32\u001b[0m \u001b[0;31m# OR\u001b[0m\u001b[0;34m\u001b[0m\u001b[0;34m\u001b[0m\u001b[0m\n\u001b[0;32m---> 33\u001b[0;31m \u001b[0;32mfrom\u001b[0m \u001b[0mhandyspark\u001b[0m\u001b[0;34m.\u001b[0m\u001b[0msql\u001b[0m \u001b[0;32mimport\u001b[0m \u001b[0mgenerate_schema\u001b[0m\u001b[0;34m\u001b[0m\u001b[0m\n\u001b[0m\u001b[1;32m     34\u001b[0m generate_schema({'PassengerId': int,\n\u001b[1;32m     35\u001b[0m                  \u001b[0;34m'Survived'\u001b[0m\u001b[0;34m:\u001b[0m \u001b[0mbool\u001b[0m\u001b[0;34m,\u001b[0m\u001b[0;34m\u001b[0m\u001b[0m\n",
      "\u001b[0;31mModuleNotFoundError\u001b[0m: No module named 'handyspark'"
     ]
    }
   ],
   "source": [
    "# Alternative Scheme:\n",
    "from pyspark.sql.types import StructType, StructField, StringType, IntegerType, DoubleType\n",
    "\n",
    "customSchema = StructType([StructField(\"PassengerId\", IntegerType(), True),\n",
    "                           StructField(\"Survived\", DoubleType(), True),\n",
    "                           StructField(\"Pclass\", IntegerType(), True),\n",
    "                           StructField(\"Name\", StringType(), True),\n",
    "                           StructField(\"Sex\", StringType(), True),\n",
    "                           StructField(\"Age\", DoubleType(), True),\n",
    "                           StructField(\"SibSp\", IntegerType(), True),\n",
    "                           StructField(\"Parch\", IntegerType(), True),\n",
    "                           StructField(\"Ticket\", StringType(), True),\n",
    "                           StructField(\"Fare\", DoubleType(), True),\n",
    "                           StructField(\"Cabin\", StringType(), True),\n",
    "                           StructField(\"Embarked\", StringType(), True)])\n",
    "\n",
    "customSchema2 = StructType([StructField(\"PassengerId\", IntegerType(), True),\n",
    "                           StructField(\"Pclass\", IntegerType(), True),\n",
    "                           StructField(\"Name\", StringType(), True),\n",
    "                           StructField(\"Sex\", StringType(), True),\n",
    "                           StructField(\"Age\", DoubleType(), True),\n",
    "                           StructField(\"SibSp\", IntegerType(), True),\n",
    "                           StructField(\"Parch\", IntegerType(), True),\n",
    "                           StructField(\"Ticket\", StringType(), True),\n",
    "                           StructField(\"Fare\", DoubleType(), True),\n",
    "                           StructField(\"Cabin\", StringType(), True),\n",
    "                           StructField(\"Embarked\", StringType(), True)])\n",
    "\n",
    "train = sqlc.read.csv(\"train.csv\", header=True, schema=customSchema)\n",
    "test = sqlc.read.csv(\"test.csv\", header=True, schema=customSchema2)\n",
    "\n",
    "# OR\n",
    "from handyspark.sql import generate_schema\n",
    "generate_schema({'PassengerId': int,\n",
    "                 'Survived': bool,\n",
    "                 'Pclass': int,\n",
    "                 'Name': str,\n",
    "                 'Sex': str,\n",
    "                 'Age': int,\n",
    "                 'SibSp': int,\n",
    "                 'Parch': int,\n",
    "                 'Ticket': str,\n",
    "                 'Fare': float,\n",
    "                 'Cabin': str,\n",
    "                 'Embarked': str},\n",
    "               nullable_columns='all')"
   ]
  },
  {
   "cell_type": "markdown",
   "metadata": {},
   "source": [
    "### Step 2\n",
    "- Explore the features of your dataset\n",
    "- You can use DataFrame's ***describe*** method to get summary statistics\n",
    "    - hint: ***toPandas*** may be useful to ease the manipulation of small dataframes\n",
    "- Are there any ***NaN*** values in your dataset?\n",
    "- If so, define value/values to fill these ***NaN*** values\n",
    "    - hint: ***na*** property of DataFrames provide several methods of handling NA values"
   ]
  },
  {
   "cell_type": "code",
   "execution_count": 5,
   "metadata": {},
   "outputs": [
    {
     "name": "stdout",
     "output_type": "stream",
     "text": [
      "+-------+-----------------+-------------------+------------------+--------------------+------+------------------+\n",
      "|summary|      PassengerId|           Survived|            Pclass|                Name|   Sex|               Age|\n",
      "+-------+-----------------+-------------------+------------------+--------------------+------+------------------+\n",
      "|  count|              891|                891|               891|                 891|   891|               714|\n",
      "|   mean|            446.0| 0.3838383838383838| 2.308641975308642|                null|  null| 29.69911764705882|\n",
      "| stddev|257.3538420152301|0.48659245426485753|0.8360712409770491|                null|  null|14.526497332334035|\n",
      "|    min|                1|                  0|                 1|\"Andersson, Mr. A...|female|              0.42|\n",
      "|    max|              891|                  1|                 3|van Melkebeke, Mr...|  male|              80.0|\n",
      "+-------+-----------------+-------------------+------------------+--------------------+------+------------------+\n",
      "\n",
      "+-------+------------------+-------------------+------------------+-----------------+-----+--------+\n",
      "|summary|             SibSp|              Parch|            Ticket|             Fare|Cabin|Embarked|\n",
      "+-------+------------------+-------------------+------------------+-----------------+-----+--------+\n",
      "|  count|               891|                891|               891|              891|  204|     889|\n",
      "|   mean|0.5230078563411896|0.38159371492704824|260318.54916792738| 32.2042079685746| null|    null|\n",
      "| stddev|1.1027434322934315| 0.8060572211299488|471609.26868834975|49.69342859718089| null|    null|\n",
      "|    min|                 0|                  0|            110152|              0.0|  A10|       C|\n",
      "|    max|                 8|                  6|         WE/P 5735|         512.3292|    T|       S|\n",
      "+-------+------------------+-------------------+------------------+-----------------+-----+--------+\n",
      "\n",
      "+-------+------------------+------------------+--------------------+------+------------------+\n",
      "|summary|       PassengerId|            Pclass|                Name|   Sex|               Age|\n",
      "+-------+------------------+------------------+--------------------+------+------------------+\n",
      "|  count|               418|               418|                 418|   418|               332|\n",
      "|   mean|            1100.5|2.2655502392344498|                null|  null|30.272590361445783|\n",
      "| stddev|120.81045760473994|0.8418375519640503|                null|  null|14.181209235624424|\n",
      "|    min|               892|                 1|\"Assaf Khalil, Mr...|female|              0.17|\n",
      "|    max|              1309|                 3|van Billiard, Mas...|  male|              76.0|\n",
      "+-------+------------------+------------------+--------------------+------+------------------+\n",
      "\n",
      "+-------+------------------+------------------+------------------+------------------+-----+--------+\n",
      "|summary|             SibSp|             Parch|            Ticket|              Fare|Cabin|Embarked|\n",
      "+-------+------------------+------------------+------------------+------------------+-----+--------+\n",
      "|  count|               418|               418|               418|               417|   91|     418|\n",
      "|   mean|0.4473684210526316|0.3923444976076555|223850.98986486485|  35.6271884892086| null|    null|\n",
      "| stddev|0.8967595611217135|0.9814288785371694| 369523.7764694362|55.907576179973844| null|    null|\n",
      "|    min|                 0|                 0|            110469|               0.0|  A11|       C|\n",
      "|    max|                 8|                 9|       W.E.P. 5734|          512.3292|   G6|       S|\n",
      "+-------+------------------+------------------+------------------+------------------+-----+--------+\n",
      "\n"
     ]
    }
   ],
   "source": [
    "### INSERT YOUR CODE HERE\n",
    "df_train.describe([\"PassengerId\", \"Survived\", \"Pclass\", \"Name\", \"Sex\", \"Age\"]).show()\n",
    "df_train.describe([\"SibSp\", \"Parch\", \"Ticket\", \"Fare\", \"Cabin\", \"Embarked\"]).show()\n",
    "\n",
    "df_test.describe([\"PassengerId\", \"Pclass\", \"Name\", \"Sex\", \"Age\"]).show()\n",
    "df_test.describe([\"SibSp\", \"Parch\", \"Ticket\", \"Fare\", \"Cabin\", \"Embarked\"]).show()"
   ]
  },
  {
   "cell_type": "code",
   "execution_count": 6,
   "metadata": {},
   "outputs": [
    {
     "name": "stdout",
     "output_type": "stream",
     "text": [
      "+-----------+--------+------+----+---+---+-----+-----+------+----+-----+--------+\n",
      "|PassengerId|Survived|Pclass|Name|Sex|Age|SibSp|Parch|Ticket|Fare|Cabin|Embarked|\n",
      "+-----------+--------+------+----+---+---+-----+-----+------+----+-----+--------+\n",
      "|          0|       0|     0|   0|  0|177|    0|    0|     0|   0|  687|       2|\n",
      "+-----------+--------+------+----+---+---+-----+-----+------+----+-----+--------+\n",
      "\n",
      "+-----------+--------+------+----+---+---+-----+-----+------+----+-----+--------+\n",
      "|PassengerId|Survived|Pclass|Name|Sex|Age|SibSp|Parch|Ticket|Fare|Cabin|Embarked|\n",
      "+-----------+--------+------+----+---+---+-----+-----+------+----+-----+--------+\n",
      "|          0|       0|     0|   0|  0|  0|    0|    0|     0|   0|    0|       0|\n",
      "+-----------+--------+------+----+---+---+-----+-----+------+----+-----+--------+\n",
      "\n"
     ]
    }
   ],
   "source": [
    "from pyspark.sql.functions import isnan, isnull, when, count, col\n",
    "df_train.select([count(when(isnull(c), c)).alias(c) for c in df_train.columns]).show()\n",
    "df_train.select([count(when(isnan(c), c)).alias(c) for c in df_train.columns]).show()"
   ]
  },
  {
   "cell_type": "code",
   "execution_count": 7,
   "metadata": {},
   "outputs": [],
   "source": [
    "df_train_summary = df_train.na.drop(how='any').describe()\n",
    "#df_train_summary.show()\n",
    "uniformMean = float(df_train_summary.rdd.collect()[1][6])\n",
    "#print(uniformMean)\n",
    "df_train = df_train.na.fill({'Age': uniformMean})\n",
    "df_train = df_train.na.drop(how='all',subset=['Embarked'])"
   ]
  },
  {
   "cell_type": "code",
   "execution_count": 8,
   "metadata": {},
   "outputs": [
    {
     "name": "stdout",
     "output_type": "stream",
     "text": [
      "+-----------+--------+------+----+---+---+-----+-----+------+----+-----+--------+\n",
      "|PassengerId|Survived|Pclass|Name|Sex|Age|SibSp|Parch|Ticket|Fare|Cabin|Embarked|\n",
      "+-----------+--------+------+----+---+---+-----+-----+------+----+-----+--------+\n",
      "|          0|       0|     0|   0|  0|  0|    0|    0|     0|   0|  687|       0|\n",
      "+-----------+--------+------+----+---+---+-----+-----+------+----+-----+--------+\n",
      "\n"
     ]
    }
   ],
   "source": [
    "df_train.select([count(when(isnull(c), c)).alias(c) for c in df_train.columns]).show()"
   ]
  },
  {
   "cell_type": "code",
   "execution_count": 9,
   "metadata": {},
   "outputs": [
    {
     "name": "stdout",
     "output_type": "stream",
     "text": [
      "+-----------+------+----+---+---+-----+-----+------+----+-----+--------+\n",
      "|PassengerId|Pclass|Name|Sex|Age|SibSp|Parch|Ticket|Fare|Cabin|Embarked|\n",
      "+-----------+------+----+---+---+-----+-----+------+----+-----+--------+\n",
      "|          0|     0|   0|  0| 86|    0|    0|     0|   1|  327|       0|\n",
      "+-----------+------+----+---+---+-----+-----+------+----+-----+--------+\n",
      "\n",
      "+-----------+------+----+---+---+-----+-----+------+----+-----+--------+\n",
      "|PassengerId|Pclass|Name|Sex|Age|SibSp|Parch|Ticket|Fare|Cabin|Embarked|\n",
      "+-----------+------+----+---+---+-----+-----+------+----+-----+--------+\n",
      "|          0|     0|   0|  0|  0|    0|    0|     0|   0|    0|       0|\n",
      "+-----------+------+----+---+---+-----+-----+------+----+-----+--------+\n",
      "\n",
      "+-------+------------------+------------------+--------------------+------+------------------+------------------+------------------+-----------------+-----------------+-----+--------+\n",
      "|summary|       PassengerId|            Pclass|                Name|   Sex|               Age|             SibSp|             Parch|           Ticket|             Fare|Cabin|Embarked|\n",
      "+-------+------------------+------------------+--------------------+------+------------------+------------------+------------------+-----------------+-----------------+-----+--------+\n",
      "|  count|                87|                87|                  87|    87|                87|                87|                87|               87|               87|   87|      87|\n",
      "|   mean| 1102.712643678161|1.1379310344827587|                null|  null|39.247126436781606|0.5977011494252874|0.4827586206896552|64295.12280701754|98.10919770114943| null|    null|\n",
      "| stddev|126.75190086607108|0.4359542805425083|                null|  null|15.218729579656495|0.6372135948516633|0.8608009921202951|76452.14958999568|88.17731946888686| null|    null|\n",
      "|    min|               904|                 1|\"Nourney, Mr. Alf...|female|               1.0|                 0|                 0|           110469|              0.0|  A11|       C|\n",
      "|    max|              1306|                 3|Wilson, Miss. Hel...|  male|              76.0|                 3|                 4|      W.E.P. 5734|         512.3292|   G6|       S|\n",
      "+-------+------------------+------------------+--------------------+------+------------------+------------------+------------------+-----------------+-----------------+-----+--------+\n",
      "\n",
      "39.247126436781606\n",
      "98.10919770114943\n",
      "+-----------+------+----+---+---+-----+-----+------+----+-----+--------+\n",
      "|PassengerId|Pclass|Name|Sex|Age|SibSp|Parch|Ticket|Fare|Cabin|Embarked|\n",
      "+-----------+------+----+---+---+-----+-----+------+----+-----+--------+\n",
      "|          0|     0|   0|  0|  0|    0|    0|     0|   0|  327|       0|\n",
      "+-----------+------+----+---+---+-----+-----+------+----+-----+--------+\n",
      "\n"
     ]
    }
   ],
   "source": [
    "df_test.select([count(when(isnull(c), c)).alias(c) for c in df_test.columns]).show()\n",
    "df_test.select([count(when(isnan(c), c)).alias(c) for c in df_test.columns]).show()\n",
    "df_test_summary = df_test.na.drop(how='any').describe()\n",
    "df_test_summary.show()\n",
    "uniformMeanAge = float(df_test_summary.rdd.collect()[1][5])\n",
    "uniformMeanFare = float(df_test_summary.rdd.collect()[1][9])\n",
    "print(uniformMeanAge)\n",
    "print(uniformMeanFare)\n",
    "df_test = df_test.na.fill({'Age': uniformMean, \"Fare\": uniformMeanFare})\n",
    "df_test = df_test.na.drop(how='all',subset=['Embarked'])\n",
    "df_test.select([count(when(isnull(c), c)).alias(c) for c in df_test.columns]).show()"
   ]
  },
  {
   "cell_type": "code",
   "execution_count": null,
   "metadata": {},
   "outputs": [],
   "source": [
    "# Daniels code\n",
    "# Calculating summary statistics and turning it into Pandas DF\n",
    "train_desc = train.describe().toPandas().set_index('summary')\n",
    "\n",
    "# Computing correlations between Survived and some features\n",
    "print({col:train.stat.corr('Survived',col) for col in ['Pclass','Age','SibSp','Parch','Fare']})\n",
    "\n",
    "# Checking which columns have NULL values\n",
    "print({col:train.where(train[col].isNull()).count() for col in train.columns})\n",
    "\n",
    "# Taking the mean age from the Pandas DF\n",
    "ageMean = float(train_desc.loc['mean']['Age'])\n",
    "print(ageMean)\n",
    "\n",
    "# Filling the Age in both train and test datasets\n",
    "trainFilled = train.na.fill({'Age': ageMean, 'Embarked': 'S'})\n",
    "testFilled = test.na.fill({'Age': ageMean, 'Embarked': 'S'})\n",
    "\n",
    "from pyspark.sql import functions as F\n",
    "train.groupby('Sex','PClass').agg(F.mean('age')).show()"
   ]
  },
  {
   "cell_type": "markdown",
   "metadata": {},
   "source": [
    "### Step 3\n",
    "- How to handle categorical features?\n",
    "    - hint: check the Estimators and Transformers\n",
    "- Assemble all desired features into a Vector using the VectorAssembler Transformer\n",
    "- Make sure to end up with a DataFrame with two columns: ***Survived*** and ***vFeatures***"
   ]
  },
  {
   "cell_type": "code",
   "execution_count": 15,
   "metadata": {},
   "outputs": [
    {
     "name": "stdout",
     "output_type": "stream",
     "text": [
      "+-----------+--------+------+--------------------+------+----------------+-----+-----+----------------+-------+-----+--------+---------+--------------+\n",
      "|PassengerId|Survived|Pclass|                Name|   Sex|             Age|SibSp|Parch|          Ticket|   Fare|Cabin|Embarked|index_Sex|index_Embarked|\n",
      "+-----------+--------+------+--------------------+------+----------------+-----+-----+----------------+-------+-----+--------+---------+--------------+\n",
      "|          1|       0|     3|Braund, Mr. Owen ...|  male|            22.0|    1|    0|       A/5 21171|   7.25| null|       S|      0.0|           0.0|\n",
      "|          2|       1|     1|Cumings, Mrs. Joh...|female|            38.0|    1|    0|        PC 17599|71.2833|  C85|       C|      1.0|           1.0|\n",
      "|          3|       1|     3|Heikkinen, Miss. ...|female|            26.0|    0|    0|STON/O2. 3101282|  7.925| null|       S|      1.0|           0.0|\n",
      "|          4|       1|     1|Futrelle, Mrs. Ja...|female|            35.0|    1|    0|          113803|   53.1| C123|       S|      1.0|           0.0|\n",
      "|          5|       0|     3|Allen, Mr. Willia...|  male|            35.0|    0|    0|          373450|   8.05| null|       S|      0.0|           0.0|\n",
      "|          6|       0|     3|    Moran, Mr. James|  male|35.6744262295082|    0|    0|          330877| 8.4583| null|       Q|      0.0|           2.0|\n",
      "|          7|       0|     1|McCarthy, Mr. Tim...|  male|            54.0|    0|    0|           17463|51.8625|  E46|       S|      0.0|           0.0|\n",
      "|          8|       0|     3|Palsson, Master. ...|  male|             2.0|    3|    1|          349909| 21.075| null|       S|      0.0|           0.0|\n",
      "|          9|       1|     3|Johnson, Mrs. Osc...|female|            27.0|    0|    2|          347742|11.1333| null|       S|      1.0|           0.0|\n",
      "|         10|       1|     2|Nasser, Mrs. Nich...|female|            14.0|    1|    0|          237736|30.0708| null|       C|      1.0|           1.0|\n",
      "|         11|       1|     3|Sandstrom, Miss. ...|female|             4.0|    1|    1|         PP 9549|   16.7|   G6|       S|      1.0|           0.0|\n",
      "|         12|       1|     1|Bonnell, Miss. El...|female|            58.0|    0|    0|          113783|  26.55| C103|       S|      1.0|           0.0|\n",
      "|         13|       0|     3|Saundercock, Mr. ...|  male|            20.0|    0|    0|       A/5. 2151|   8.05| null|       S|      0.0|           0.0|\n",
      "|         14|       0|     3|Andersson, Mr. An...|  male|            39.0|    1|    5|          347082| 31.275| null|       S|      0.0|           0.0|\n",
      "|         15|       0|     3|Vestrom, Miss. Hu...|female|            14.0|    0|    0|          350406| 7.8542| null|       S|      1.0|           0.0|\n",
      "|         16|       1|     2|Hewlett, Mrs. (Ma...|female|            55.0|    0|    0|          248706|   16.0| null|       S|      1.0|           0.0|\n",
      "|         17|       0|     3|Rice, Master. Eugene|  male|             2.0|    4|    1|          382652| 29.125| null|       Q|      0.0|           2.0|\n",
      "|         18|       1|     2|Williams, Mr. Cha...|  male|35.6744262295082|    0|    0|          244373|   13.0| null|       S|      0.0|           0.0|\n",
      "|         19|       0|     3|Vander Planke, Mr...|female|            31.0|    1|    0|          345763|   18.0| null|       S|      1.0|           0.0|\n",
      "|         20|       1|     3|Masselmani, Mrs. ...|female|35.6744262295082|    0|    0|            2649|  7.225| null|       C|      1.0|           1.0|\n",
      "+-----------+--------+------+--------------------+------+----------------+-----+-----+----------------+-------+-----+--------+---------+--------------+\n",
      "only showing top 20 rows\n",
      "\n"
     ]
    }
   ],
   "source": [
    "from pyspark.ml.feature import StringIndexer, OneHotEncoderEstimator\n",
    "from pyspark.ml.feature import VectorAssembler\n",
    "#from pyspark.mllib.util import MLUtils\n",
    "\n",
    "#df_train.show()\n",
    "\n",
    "indexer_sex = StringIndexer().setInputCol(\"Sex\").setOutputCol(\"index_Sex\") # .setHandleInvalid(True)\n",
    "indexed_sex = indexer_sex.fit(df_train).transform(df_train)\n",
    "#indexed_sex.show()\n",
    "\n",
    "indexer_embarked = StringIndexer().setInputCol(\"Embarked\").setOutputCol(\"index_Embarked\") # .setHandleInvalid(True)\n",
    "indexed_embarked = indexer_embarked.fit(indexed_sex).transform(indexed_sex)\n",
    "indexed_embarked.show()"
   ]
  },
  {
   "cell_type": "code",
   "execution_count": 19,
   "metadata": {},
   "outputs": [
    {
     "name": "stdout",
     "output_type": "stream",
     "text": [
      "+-----------+------+--------------------+------+----------------+-----+-----+----------------+-------+-----+--------+---------+--------------+\n",
      "|PassengerId|Pclass|                Name|   Sex|             Age|SibSp|Parch|          Ticket|   Fare|Cabin|Embarked|index_Sex|index_Embarked|\n",
      "+-----------+------+--------------------+------+----------------+-----+-----+----------------+-------+-----+--------+---------+--------------+\n",
      "|        892|     3|    Kelly, Mr. James|  male|            34.5|    0|    0|          330911| 7.8292| null|       Q|      0.0|           2.0|\n",
      "|        893|     3|Wilkes, Mrs. Jame...|female|            47.0|    1|    0|          363272|    7.0| null|       S|      1.0|           0.0|\n",
      "|        894|     2|Myles, Mr. Thomas...|  male|            62.0|    0|    0|          240276| 9.6875| null|       Q|      0.0|           2.0|\n",
      "|        895|     3|    Wirz, Mr. Albert|  male|            27.0|    0|    0|          315154| 8.6625| null|       S|      0.0|           0.0|\n",
      "|        896|     3|Hirvonen, Mrs. Al...|female|            22.0|    1|    1|         3101298|12.2875| null|       S|      1.0|           0.0|\n",
      "|        897|     3|Svensson, Mr. Joh...|  male|            14.0|    0|    0|            7538|  9.225| null|       S|      0.0|           0.0|\n",
      "|        898|     3|Connolly, Miss. Kate|female|            30.0|    0|    0|          330972| 7.6292| null|       Q|      1.0|           2.0|\n",
      "|        899|     2|Caldwell, Mr. Alb...|  male|            26.0|    1|    1|          248738|   29.0| null|       S|      0.0|           0.0|\n",
      "|        900|     3|Abrahim, Mrs. Jos...|female|            18.0|    0|    0|            2657| 7.2292| null|       C|      1.0|           1.0|\n",
      "|        901|     3|Davies, Mr. John ...|  male|            21.0|    2|    0|       A/4 48871|  24.15| null|       S|      0.0|           0.0|\n",
      "|        902|     3|    Ilieff, Mr. Ylio|  male|35.6744262295082|    0|    0|          349220| 7.8958| null|       S|      0.0|           0.0|\n",
      "|        903|     1|Jones, Mr. Charle...|  male|            46.0|    0|    0|             694|   26.0| null|       S|      0.0|           0.0|\n",
      "|        904|     1|Snyder, Mrs. John...|female|            23.0|    1|    0|           21228|82.2667|  B45|       S|      1.0|           0.0|\n",
      "|        905|     2|Howard, Mr. Benjamin|  male|            63.0|    1|    0|           24065|   26.0| null|       S|      0.0|           0.0|\n",
      "|        906|     1|Chaffee, Mrs. Her...|female|            47.0|    1|    0|     W.E.P. 5734| 61.175|  E31|       S|      1.0|           0.0|\n",
      "|        907|     2|del Carlo, Mrs. S...|female|            24.0|    1|    0|   SC/PARIS 2167|27.7208| null|       C|      1.0|           1.0|\n",
      "|        908|     2|   Keane, Mr. Daniel|  male|            35.0|    0|    0|          233734|  12.35| null|       Q|      0.0|           2.0|\n",
      "|        909|     3|   Assaf, Mr. Gerios|  male|            21.0|    0|    0|            2692|  7.225| null|       C|      0.0|           1.0|\n",
      "|        910|     3|Ilmakangas, Miss....|female|            27.0|    1|    0|STON/O2. 3101270|  7.925| null|       S|      1.0|           0.0|\n",
      "|        911|     3|\"Assaf Khalil, Mr...|female|            45.0|    0|    0|            2696|  7.225| null|       C|      1.0|           1.0|\n",
      "+-----------+------+--------------------+------+----------------+-----+-----+----------------+-------+-----+--------+---------+--------------+\n",
      "only showing top 20 rows\n",
      "\n"
     ]
    }
   ],
   "source": [
    "indexer_sex_test = StringIndexer().setInputCol(\"Sex\").setOutputCol(\"index_Sex\") # .setHandleInvalid(True)\n",
    "indexed_sex_test = indexer_sex.fit(df_test).transform(df_test)\n",
    "#indexed_sex.show()\n",
    "\n",
    "indexer_embarked_test = StringIndexer().setInputCol(\"Embarked\").setOutputCol(\"index_Embarked\") # .setHandleInvalid(True)\n",
    "indexed_embarked_test = indexer_embarked_test.fit(indexed_sex_test).transform(indexed_sex_test)\n",
    "indexed_embarked_test.show()"
   ]
  },
  {
   "cell_type": "code",
   "execution_count": 21,
   "metadata": {},
   "outputs": [
    {
     "name": "stdout",
     "output_type": "stream",
     "text": [
      "+-----------+--------+------+--------------------+------+----------------+-----+-----+----------------+-------+-----+--------+---------+--------------+-------------+---------------+-------------+\n",
      "|PassengerId|Survived|Pclass|                Name|   Sex|             Age|SibSp|Parch|          Ticket|   Fare|Cabin|Embarked|index_Sex|index_Embarked|   vector_Sex|vector_Embarked|vector_Pclass|\n",
      "+-----------+--------+------+--------------------+------+----------------+-----+-----+----------------+-------+-----+--------+---------+--------------+-------------+---------------+-------------+\n",
      "|          1|       0|     3|Braund, Mr. Owen ...|  male|            22.0|    1|    0|       A/5 21171|   7.25| null|       S|      0.0|           0.0|(1,[0],[1.0])|  (2,[0],[1.0])|    (3,[],[])|\n",
      "|          2|       1|     1|Cumings, Mrs. Joh...|female|            38.0|    1|    0|        PC 17599|71.2833|  C85|       C|      1.0|           1.0|    (1,[],[])|  (2,[1],[1.0])|(3,[1],[1.0])|\n",
      "|          3|       1|     3|Heikkinen, Miss. ...|female|            26.0|    0|    0|STON/O2. 3101282|  7.925| null|       S|      1.0|           0.0|    (1,[],[])|  (2,[0],[1.0])|    (3,[],[])|\n",
      "|          4|       1|     1|Futrelle, Mrs. Ja...|female|            35.0|    1|    0|          113803|   53.1| C123|       S|      1.0|           0.0|    (1,[],[])|  (2,[0],[1.0])|(3,[1],[1.0])|\n",
      "|          5|       0|     3|Allen, Mr. Willia...|  male|            35.0|    0|    0|          373450|   8.05| null|       S|      0.0|           0.0|(1,[0],[1.0])|  (2,[0],[1.0])|    (3,[],[])|\n",
      "|          6|       0|     3|    Moran, Mr. James|  male|35.6744262295082|    0|    0|          330877| 8.4583| null|       Q|      0.0|           2.0|(1,[0],[1.0])|      (2,[],[])|    (3,[],[])|\n",
      "|          7|       0|     1|McCarthy, Mr. Tim...|  male|            54.0|    0|    0|           17463|51.8625|  E46|       S|      0.0|           0.0|(1,[0],[1.0])|  (2,[0],[1.0])|(3,[1],[1.0])|\n",
      "|          8|       0|     3|Palsson, Master. ...|  male|             2.0|    3|    1|          349909| 21.075| null|       S|      0.0|           0.0|(1,[0],[1.0])|  (2,[0],[1.0])|    (3,[],[])|\n",
      "|          9|       1|     3|Johnson, Mrs. Osc...|female|            27.0|    0|    2|          347742|11.1333| null|       S|      1.0|           0.0|    (1,[],[])|  (2,[0],[1.0])|    (3,[],[])|\n",
      "|         10|       1|     2|Nasser, Mrs. Nich...|female|            14.0|    1|    0|          237736|30.0708| null|       C|      1.0|           1.0|    (1,[],[])|  (2,[1],[1.0])|(3,[2],[1.0])|\n",
      "|         11|       1|     3|Sandstrom, Miss. ...|female|             4.0|    1|    1|         PP 9549|   16.7|   G6|       S|      1.0|           0.0|    (1,[],[])|  (2,[0],[1.0])|    (3,[],[])|\n",
      "|         12|       1|     1|Bonnell, Miss. El...|female|            58.0|    0|    0|          113783|  26.55| C103|       S|      1.0|           0.0|    (1,[],[])|  (2,[0],[1.0])|(3,[1],[1.0])|\n",
      "|         13|       0|     3|Saundercock, Mr. ...|  male|            20.0|    0|    0|       A/5. 2151|   8.05| null|       S|      0.0|           0.0|(1,[0],[1.0])|  (2,[0],[1.0])|    (3,[],[])|\n",
      "|         14|       0|     3|Andersson, Mr. An...|  male|            39.0|    1|    5|          347082| 31.275| null|       S|      0.0|           0.0|(1,[0],[1.0])|  (2,[0],[1.0])|    (3,[],[])|\n",
      "|         15|       0|     3|Vestrom, Miss. Hu...|female|            14.0|    0|    0|          350406| 7.8542| null|       S|      1.0|           0.0|    (1,[],[])|  (2,[0],[1.0])|    (3,[],[])|\n",
      "|         16|       1|     2|Hewlett, Mrs. (Ma...|female|            55.0|    0|    0|          248706|   16.0| null|       S|      1.0|           0.0|    (1,[],[])|  (2,[0],[1.0])|(3,[2],[1.0])|\n",
      "|         17|       0|     3|Rice, Master. Eugene|  male|             2.0|    4|    1|          382652| 29.125| null|       Q|      0.0|           2.0|(1,[0],[1.0])|      (2,[],[])|    (3,[],[])|\n",
      "|         18|       1|     2|Williams, Mr. Cha...|  male|35.6744262295082|    0|    0|          244373|   13.0| null|       S|      0.0|           0.0|(1,[0],[1.0])|  (2,[0],[1.0])|(3,[2],[1.0])|\n",
      "|         19|       0|     3|Vander Planke, Mr...|female|            31.0|    1|    0|          345763|   18.0| null|       S|      1.0|           0.0|    (1,[],[])|  (2,[0],[1.0])|    (3,[],[])|\n",
      "|         20|       1|     3|Masselmani, Mrs. ...|female|35.6744262295082|    0|    0|            2649|  7.225| null|       C|      1.0|           1.0|    (1,[],[])|  (2,[1],[1.0])|    (3,[],[])|\n",
      "+-----------+--------+------+--------------------+------+----------------+-----+-----+----------------+-------+-----+--------+---------+--------------+-------------+---------------+-------------+\n",
      "only showing top 20 rows\n",
      "\n"
     ]
    }
   ],
   "source": [
    "encoder = OneHotEncoderEstimator(inputCols=[\"index_Sex\", \"index_Embarked\", \"Pclass\"],\n",
    "                                 outputCols=[\"vector_Sex\", \"vector_Embarked\", \"vector_Pclass\"])\n",
    "model = encoder.fit(indexed_embarked)\n",
    "encoded = model.transform(indexed_embarked)\n",
    "encoded.show()"
   ]
  },
  {
   "cell_type": "code",
   "execution_count": 22,
   "metadata": {},
   "outputs": [
    {
     "name": "stdout",
     "output_type": "stream",
     "text": [
      "+-----------+------+--------------------+------+----------------+-----+-----+----------------+-------+-----+--------+---------+--------------+-------------+---------------+-------------+\n",
      "|PassengerId|Pclass|                Name|   Sex|             Age|SibSp|Parch|          Ticket|   Fare|Cabin|Embarked|index_Sex|index_Embarked|   vector_Sex|vector_Embarked|vector_Pclass|\n",
      "+-----------+------+--------------------+------+----------------+-----+-----+----------------+-------+-----+--------+---------+--------------+-------------+---------------+-------------+\n",
      "|        892|     3|    Kelly, Mr. James|  male|            34.5|    0|    0|          330911| 7.8292| null|       Q|      0.0|           2.0|(1,[0],[1.0])|      (2,[],[])|    (3,[],[])|\n",
      "|        893|     3|Wilkes, Mrs. Jame...|female|            47.0|    1|    0|          363272|    7.0| null|       S|      1.0|           0.0|    (1,[],[])|  (2,[0],[1.0])|    (3,[],[])|\n",
      "|        894|     2|Myles, Mr. Thomas...|  male|            62.0|    0|    0|          240276| 9.6875| null|       Q|      0.0|           2.0|(1,[0],[1.0])|      (2,[],[])|(3,[2],[1.0])|\n",
      "|        895|     3|    Wirz, Mr. Albert|  male|            27.0|    0|    0|          315154| 8.6625| null|       S|      0.0|           0.0|(1,[0],[1.0])|  (2,[0],[1.0])|    (3,[],[])|\n",
      "|        896|     3|Hirvonen, Mrs. Al...|female|            22.0|    1|    1|         3101298|12.2875| null|       S|      1.0|           0.0|    (1,[],[])|  (2,[0],[1.0])|    (3,[],[])|\n",
      "|        897|     3|Svensson, Mr. Joh...|  male|            14.0|    0|    0|            7538|  9.225| null|       S|      0.0|           0.0|(1,[0],[1.0])|  (2,[0],[1.0])|    (3,[],[])|\n",
      "|        898|     3|Connolly, Miss. Kate|female|            30.0|    0|    0|          330972| 7.6292| null|       Q|      1.0|           2.0|    (1,[],[])|      (2,[],[])|    (3,[],[])|\n",
      "|        899|     2|Caldwell, Mr. Alb...|  male|            26.0|    1|    1|          248738|   29.0| null|       S|      0.0|           0.0|(1,[0],[1.0])|  (2,[0],[1.0])|(3,[2],[1.0])|\n",
      "|        900|     3|Abrahim, Mrs. Jos...|female|            18.0|    0|    0|            2657| 7.2292| null|       C|      1.0|           1.0|    (1,[],[])|  (2,[1],[1.0])|    (3,[],[])|\n",
      "|        901|     3|Davies, Mr. John ...|  male|            21.0|    2|    0|       A/4 48871|  24.15| null|       S|      0.0|           0.0|(1,[0],[1.0])|  (2,[0],[1.0])|    (3,[],[])|\n",
      "|        902|     3|    Ilieff, Mr. Ylio|  male|35.6744262295082|    0|    0|          349220| 7.8958| null|       S|      0.0|           0.0|(1,[0],[1.0])|  (2,[0],[1.0])|    (3,[],[])|\n",
      "|        903|     1|Jones, Mr. Charle...|  male|            46.0|    0|    0|             694|   26.0| null|       S|      0.0|           0.0|(1,[0],[1.0])|  (2,[0],[1.0])|(3,[1],[1.0])|\n",
      "|        904|     1|Snyder, Mrs. John...|female|            23.0|    1|    0|           21228|82.2667|  B45|       S|      1.0|           0.0|    (1,[],[])|  (2,[0],[1.0])|(3,[1],[1.0])|\n",
      "|        905|     2|Howard, Mr. Benjamin|  male|            63.0|    1|    0|           24065|   26.0| null|       S|      0.0|           0.0|(1,[0],[1.0])|  (2,[0],[1.0])|(3,[2],[1.0])|\n",
      "|        906|     1|Chaffee, Mrs. Her...|female|            47.0|    1|    0|     W.E.P. 5734| 61.175|  E31|       S|      1.0|           0.0|    (1,[],[])|  (2,[0],[1.0])|(3,[1],[1.0])|\n",
      "|        907|     2|del Carlo, Mrs. S...|female|            24.0|    1|    0|   SC/PARIS 2167|27.7208| null|       C|      1.0|           1.0|    (1,[],[])|  (2,[1],[1.0])|(3,[2],[1.0])|\n",
      "|        908|     2|   Keane, Mr. Daniel|  male|            35.0|    0|    0|          233734|  12.35| null|       Q|      0.0|           2.0|(1,[0],[1.0])|      (2,[],[])|(3,[2],[1.0])|\n",
      "|        909|     3|   Assaf, Mr. Gerios|  male|            21.0|    0|    0|            2692|  7.225| null|       C|      0.0|           1.0|(1,[0],[1.0])|  (2,[1],[1.0])|    (3,[],[])|\n",
      "|        910|     3|Ilmakangas, Miss....|female|            27.0|    1|    0|STON/O2. 3101270|  7.925| null|       S|      1.0|           0.0|    (1,[],[])|  (2,[0],[1.0])|    (3,[],[])|\n",
      "|        911|     3|\"Assaf Khalil, Mr...|female|            45.0|    0|    0|            2696|  7.225| null|       C|      1.0|           1.0|    (1,[],[])|  (2,[1],[1.0])|    (3,[],[])|\n",
      "+-----------+------+--------------------+------+----------------+-----+-----+----------------+-------+-----+--------+---------+--------------+-------------+---------------+-------------+\n",
      "only showing top 20 rows\n",
      "\n"
     ]
    }
   ],
   "source": [
    "encoder = OneHotEncoderEstimator(inputCols=[\"index_Sex\", \"index_Embarked\", \"Pclass\"],\n",
    "                                 outputCols=[\"vector_Sex\", \"vector_Embarked\", \"vector_Pclass\"])\n",
    "model = encoder.fit(indexed_embarked_test)\n",
    "encoded_test = model.transform(indexed_embarked_test)\n",
    "encoded_test.show()"
   ]
  },
  {
   "cell_type": "code",
   "execution_count": 23,
   "metadata": {},
   "outputs": [],
   "source": [
    "assembler_train = VectorAssembler(inputCols = [\"vector_Sex\", \"vector_Embarked\", \"vector_Pclass\", \"Age\", \"SibSp\", \"Parch\"], outputCol = \"vFeatures\")\n",
    "assembler_test = VectorAssembler(inputCols = [\"vector_Sex\", \"vector_Embarked\", \"vector_Pclass\", \"Age\", \"SibSp\", \"Parch\"], outputCol = \"vFeatures\")"
   ]
  },
  {
   "cell_type": "code",
   "execution_count": 27,
   "metadata": {},
   "outputs": [],
   "source": [
    "df_Vec_train = assembler_train.transform(encoded)\n",
    "df_Vec_test = assembler_test.transform(encoded_test)"
   ]
  },
  {
   "cell_type": "code",
   "execution_count": 32,
   "metadata": {},
   "outputs": [
    {
     "name": "stdout",
     "output_type": "stream",
     "text": [
      "+--------+--------------------+\n",
      "|Survived|           vFeatures|\n",
      "+--------+--------------------+\n",
      "|       0|(9,[0,1,6,7],[1.0...|\n",
      "|       1|(9,[2,4,6,7],[1.0...|\n",
      "|       1|(9,[1,6],[1.0,26.0])|\n",
      "|       1|(9,[1,4,6,7],[1.0...|\n",
      "|       0|(9,[0,1,6],[1.0,1...|\n",
      "|       0|(9,[0,6],[1.0,35....|\n",
      "|       0|(9,[0,1,4,6],[1.0...|\n",
      "|       0|[1.0,1.0,0.0,0.0,...|\n",
      "|       1|(9,[1,6,8],[1.0,2...|\n",
      "|       1|(9,[2,5,6,7],[1.0...|\n",
      "|       1|(9,[1,6,7,8],[1.0...|\n",
      "|       1|(9,[1,4,6],[1.0,1...|\n",
      "|       0|(9,[0,1,6],[1.0,1...|\n",
      "|       0|[1.0,1.0,0.0,0.0,...|\n",
      "|       0|(9,[1,6],[1.0,14.0])|\n",
      "|       1|(9,[1,5,6],[1.0,1...|\n",
      "|       0|(9,[0,6,7,8],[1.0...|\n",
      "|       1|(9,[0,1,5,6],[1.0...|\n",
      "|       0|(9,[1,6,7],[1.0,3...|\n",
      "|       1|(9,[2,6],[1.0,35....|\n",
      "+--------+--------------------+\n",
      "only showing top 20 rows\n",
      "\n",
      "+--------------------+\n",
      "|           vFeatures|\n",
      "+--------------------+\n",
      "|(9,[0,6],[1.0,34.5])|\n",
      "|(9,[1,6,7],[1.0,4...|\n",
      "|(9,[0,5,6],[1.0,1...|\n",
      "|(9,[0,1,6],[1.0,1...|\n",
      "|(9,[1,6,7,8],[1.0...|\n",
      "|(9,[0,1,6],[1.0,1...|\n",
      "|      (9,[6],[30.0])|\n",
      "|[1.0,1.0,0.0,0.0,...|\n",
      "|(9,[2,6],[1.0,18.0])|\n",
      "|(9,[0,1,6,7],[1.0...|\n",
      "|(9,[0,1,6],[1.0,1...|\n",
      "|(9,[0,1,4,6],[1.0...|\n",
      "|(9,[1,4,6,7],[1.0...|\n",
      "|[1.0,1.0,0.0,0.0,...|\n",
      "|(9,[1,4,6,7],[1.0...|\n",
      "|(9,[2,5,6,7],[1.0...|\n",
      "|(9,[0,5,6],[1.0,1...|\n",
      "|(9,[0,2,6],[1.0,1...|\n",
      "|(9,[1,6,7],[1.0,2...|\n",
      "|(9,[2,6],[1.0,45.0])|\n",
      "+--------------------+\n",
      "only showing top 20 rows\n",
      "\n"
     ]
    }
   ],
   "source": [
    "df_Vec_train = df_Vec_train.select([c for c in df_Vec_train.columns if c in ['vFeatures','Survived']])\n",
    "df_Vec_train.show()\n",
    "df_Vec_test = df_Vec_test.select([c for c in df_Vec_test.columns if c in ['vFeatures','Survived']])\n",
    "df_Vec_test.show()"
   ]
  },
  {
   "cell_type": "code",
   "execution_count": 34,
   "metadata": {},
   "outputs": [],
   "source": [
    "#df_Vec_train.toPandas()"
   ]
  },
  {
   "cell_type": "code",
   "execution_count": null,
   "metadata": {},
   "outputs": [],
   "source": [
    "# Daniels code\n",
    "from pyspark.ml.feature import StringIndexer, OneHotEncoderEstimator\n",
    "from pyspark.ml.feature import VectorAssembler\n",
    "\n",
    "# Applying Estimators and Transformators\n",
    "# Here, I actually fitted and transformed them on the training data\n",
    "# with the purpose of being able to check the intermediate steps\n",
    "\n",
    "indexer1 = (StringIndexer()\n",
    "           .setInputCol(\"Embarked\")\n",
    "           .setOutputCol(\"nEmbarked\")\n",
    "           .setHandleInvalid('skip'))\n",
    "\n",
    "indexed1 = indexer1.fit(trainFilled).transform(trainFilled)\n",
    "\n",
    "indexer2 = (StringIndexer()\n",
    "           .setInputCol(\"Sex\")\n",
    "           .setOutputCol(\"nSex\")\n",
    "           .setHandleInvalid('skip'))\n",
    "\n",
    "indexed2 = indexer2.fit(indexed1).transform(indexed1)\n",
    "\n",
    "encoder1 = OneHotEncoder().setInputCol(\"nEmbarked\").setOutputCol(\"vEmbarked\")\n",
    "encoded1 = encoder1.transform(indexed2)\n",
    "\n",
    "# Using a VectorAssembler to put together all feature columns\n",
    "assembler = VectorAssembler(inputCols=['Pclass',\n",
    "                                       'Age',\n",
    "                                       'SibSp',\n",
    "                                       'Parch',\n",
    "                                       'Fare',\n",
    "                                       'nSex',\n",
    "                                       'vEmbarked'],\n",
    "                            outputCol='vFeatures')\n",
    "\n",
    "assembled = assembler.transform(encoded1)\n",
    "\n",
    "# Keeping only the features and label columns to\n",
    "assembled2 = assembled.select(\"Survived\",\"vFeatures\")\n",
    "\n",
    "from pyspark.ml.feature import RFormula\n",
    "\n",
    "rformula = RFormula(formula='Survived ~ Pclass + Age + SibSp + Parch + Fare + Sex + Embarked',\n",
    "                    featuresCol='vFeatures', labelCol='Survived')\n",
    "rmodel = rformula.fit(trainFilled)\n",
    "features = rmodel.transform(trainFilled)\n",
    "features.select('vFeatures', 'Survived').limit(5).toPandas()"
   ]
  },
  {
   "cell_type": "markdown",
   "metadata": {},
   "source": [
    "### Step 4\n",
    "- Apply a normalization Estimator of your choice to the ***features*** vector obtained in Step 3"
   ]
  },
  {
   "cell_type": "code",
   "execution_count": 37,
   "metadata": {},
   "outputs": [],
   "source": [
    "from pyspark.ml.feature import StandardScaler\n",
    "\n",
    "scaler2 = StandardScaler().setInputCol(\"vFeatures\").setOutputCol(\"scaled_vFeatures\").setWithStd(True).setWithMean(True)\n",
    "scaler2Model = scaler2.fit(df_Vec_train)\n",
    "df_Vec_train_scaled = scaler2Model.transform(df_Vec_train)\n",
    "scaler2Model = scaler2.fit(df_Vec_test)\n",
    "df_Vec_test_scaled = scaler2Model.transform(df_Vec_test)"
   ]
  },
  {
   "cell_type": "code",
   "execution_count": 38,
   "metadata": {},
   "outputs": [
    {
     "data": {
      "text/html": [
       "<div>\n",
       "<style scoped>\n",
       "    .dataframe tbody tr th:only-of-type {\n",
       "        vertical-align: middle;\n",
       "    }\n",
       "\n",
       "    .dataframe tbody tr th {\n",
       "        vertical-align: top;\n",
       "    }\n",
       "\n",
       "    .dataframe thead th {\n",
       "        text-align: right;\n",
       "    }\n",
       "</style>\n",
       "<table border=\"1\" class=\"dataframe\">\n",
       "  <thead>\n",
       "    <tr style=\"text-align: right;\">\n",
       "      <th></th>\n",
       "      <th>Survived</th>\n",
       "      <th>vFeatures</th>\n",
       "      <th>scaled_vFeatures</th>\n",
       "    </tr>\n",
       "  </thead>\n",
       "  <tbody>\n",
       "    <tr>\n",
       "      <th>0</th>\n",
       "      <td>0</td>\n",
       "      <td>(1.0, 1.0, 0.0, 0.0, 0.0, 0.0, 22.0, 1.0, 0.0)</td>\n",
       "      <td>[0.734928336701, 0.616446953898, -0.4824392247...</td>\n",
       "    </tr>\n",
       "    <tr>\n",
       "      <th>1</th>\n",
       "      <td>1</td>\n",
       "      <td>(0.0, 0.0, 1.0, 0.0, 1.0, 0.0, 38.0, 1.0, 0.0)</td>\n",
       "      <td>[-1.35914631499, -1.62037485025, 2.07046833956...</td>\n",
       "    </tr>\n",
       "    <tr>\n",
       "      <th>2</th>\n",
       "      <td>1</td>\n",
       "      <td>(0.0, 1.0, 0.0, 0.0, 0.0, 0.0, 26.0, 0.0, 0.0)</td>\n",
       "      <td>[-1.35914631499, 0.616446953898, -0.4824392247...</td>\n",
       "    </tr>\n",
       "    <tr>\n",
       "      <th>3</th>\n",
       "      <td>1</td>\n",
       "      <td>(0.0, 1.0, 0.0, 0.0, 1.0, 0.0, 35.0, 1.0, 0.0)</td>\n",
       "      <td>[-1.35914631499, 0.616446953898, -0.4824392247...</td>\n",
       "    </tr>\n",
       "    <tr>\n",
       "      <th>4</th>\n",
       "      <td>0</td>\n",
       "      <td>(1.0, 1.0, 0.0, 0.0, 0.0, 0.0, 35.0, 0.0, 0.0)</td>\n",
       "      <td>[0.734928336701, 0.616446953898, -0.4824392247...</td>\n",
       "    </tr>\n",
       "  </tbody>\n",
       "</table>\n",
       "</div>"
      ],
      "text/plain": [
       "   Survived                                       vFeatures  \\\n",
       "0         0  (1.0, 1.0, 0.0, 0.0, 0.0, 0.0, 22.0, 1.0, 0.0)   \n",
       "1         1  (0.0, 0.0, 1.0, 0.0, 1.0, 0.0, 38.0, 1.0, 0.0)   \n",
       "2         1  (0.0, 1.0, 0.0, 0.0, 0.0, 0.0, 26.0, 0.0, 0.0)   \n",
       "3         1  (0.0, 1.0, 0.0, 0.0, 1.0, 0.0, 35.0, 1.0, 0.0)   \n",
       "4         0  (1.0, 1.0, 0.0, 0.0, 0.0, 0.0, 35.0, 0.0, 0.0)   \n",
       "\n",
       "                                    scaled_vFeatures  \n",
       "0  [0.734928336701, 0.616446953898, -0.4824392247...  \n",
       "1  [-1.35914631499, -1.62037485025, 2.07046833956...  \n",
       "2  [-1.35914631499, 0.616446953898, -0.4824392247...  \n",
       "3  [-1.35914631499, 0.616446953898, -0.4824392247...  \n",
       "4  [0.734928336701, 0.616446953898, -0.4824392247...  "
      ]
     },
     "execution_count": 38,
     "metadata": {},
     "output_type": "execute_result"
    }
   ],
   "source": [
    "df_Vec_train_scaled.toPandas()[:5]"
   ]
  },
  {
   "cell_type": "code",
   "execution_count": 39,
   "metadata": {},
   "outputs": [
    {
     "data": {
      "text/html": [
       "<div>\n",
       "<style scoped>\n",
       "    .dataframe tbody tr th:only-of-type {\n",
       "        vertical-align: middle;\n",
       "    }\n",
       "\n",
       "    .dataframe tbody tr th {\n",
       "        vertical-align: top;\n",
       "    }\n",
       "\n",
       "    .dataframe thead th {\n",
       "        text-align: right;\n",
       "    }\n",
       "</style>\n",
       "<table border=\"1\" class=\"dataframe\">\n",
       "  <thead>\n",
       "    <tr style=\"text-align: right;\">\n",
       "      <th></th>\n",
       "      <th>vFeatures</th>\n",
       "      <th>scaled_vFeatures</th>\n",
       "    </tr>\n",
       "  </thead>\n",
       "  <tbody>\n",
       "    <tr>\n",
       "      <th>0</th>\n",
       "      <td>(1.0, 0.0, 0.0, 0.0, 0.0, 0.0, 34.5, 0.0, 0.0)</td>\n",
       "      <td>[0.755024183341, -1.34905889866, -0.5674615384...</td>\n",
       "    </tr>\n",
       "    <tr>\n",
       "      <th>1</th>\n",
       "      <td>(0.0, 1.0, 0.0, 0.0, 0.0, 0.0, 47.0, 1.0, 0.0)</td>\n",
       "      <td>[-1.32129232085, 0.739484137046, -0.5674615384...</td>\n",
       "    </tr>\n",
       "    <tr>\n",
       "      <th>2</th>\n",
       "      <td>(1.0, 0.0, 0.0, 0.0, 0.0, 1.0, 62.0, 0.0, 0.0)</td>\n",
       "      <td>[0.755024183341, -1.34905889866, -0.5674615384...</td>\n",
       "    </tr>\n",
       "    <tr>\n",
       "      <th>3</th>\n",
       "      <td>(1.0, 1.0, 0.0, 0.0, 0.0, 0.0, 27.0, 0.0, 0.0)</td>\n",
       "      <td>[0.755024183341, 0.739484137046, -0.5674615384...</td>\n",
       "    </tr>\n",
       "    <tr>\n",
       "      <th>4</th>\n",
       "      <td>(0.0, 1.0, 0.0, 0.0, 0.0, 0.0, 22.0, 1.0, 1.0)</td>\n",
       "      <td>[-1.32129232085, 0.739484137046, -0.5674615384...</td>\n",
       "    </tr>\n",
       "  </tbody>\n",
       "</table>\n",
       "</div>"
      ],
      "text/plain": [
       "                                        vFeatures  \\\n",
       "0  (1.0, 0.0, 0.0, 0.0, 0.0, 0.0, 34.5, 0.0, 0.0)   \n",
       "1  (0.0, 1.0, 0.0, 0.0, 0.0, 0.0, 47.0, 1.0, 0.0)   \n",
       "2  (1.0, 0.0, 0.0, 0.0, 0.0, 1.0, 62.0, 0.0, 0.0)   \n",
       "3  (1.0, 1.0, 0.0, 0.0, 0.0, 0.0, 27.0, 0.0, 0.0)   \n",
       "4  (0.0, 1.0, 0.0, 0.0, 0.0, 0.0, 22.0, 1.0, 1.0)   \n",
       "\n",
       "                                    scaled_vFeatures  \n",
       "0  [0.755024183341, -1.34905889866, -0.5674615384...  \n",
       "1  [-1.32129232085, 0.739484137046, -0.5674615384...  \n",
       "2  [0.755024183341, -1.34905889866, -0.5674615384...  \n",
       "3  [0.755024183341, 0.739484137046, -0.5674615384...  \n",
       "4  [-1.32129232085, 0.739484137046, -0.5674615384...  "
      ]
     },
     "execution_count": 39,
     "metadata": {},
     "output_type": "execute_result"
    }
   ],
   "source": [
    "df_Vec_test_scaled.toPandas()[:5]"
   ]
  },
  {
   "cell_type": "code",
   "execution_count": null,
   "metadata": {},
   "outputs": [],
   "source": [
    "# Daniels code\n",
    "from pyspark.ml.feature import StandardScaler\n",
    "\n",
    "scaler = (StandardScaler()\n",
    "          .setInputCol(\"vFeatures\")\n",
    "          .setOutputCol(\"scaledFeat\")\n",
    "          .setWithStd(True)\n",
    "          .setWithMean(True))\n",
    "\n",
    "scalerModel = scaler.fit(assembled2)\n",
    "scaled = scalerModel.transform(assembled2)"
   ]
  },
  {
   "cell_type": "markdown",
   "metadata": {},
   "source": [
    "### Step 5\n",
    "- Instead of doing transformations on separate steps, put everything together with a Pipeline"
   ]
  },
  {
   "cell_type": "code",
   "execution_count": null,
   "metadata": {
    "collapsed": true
   },
   "outputs": [],
   "source": [
    "from pyspark.ml.pipeline import Pipeline\n",
    "\n",
    "### INSERT YOUR CODE HERE"
   ]
  },
  {
   "cell_type": "code",
   "execution_count": null,
   "metadata": {},
   "outputs": [],
   "source": [
    "# Daniels code\n",
    "from pyspark.ml.pipeline import Pipeline\n",
    "\n",
    "pipeline = Pipeline(stages=[indexer1,\n",
    "                            indexer2,\n",
    "                            encoder1,\n",
    "                            assembler,\n",
    "                            scaler])\n",
    "\n",
    "pipeline = Pipeline(stages=[rformula, scaler])\n",
    "\n",
    "model = pipeline.fit(trainFilled)\n",
    "scaled = model.transform(trainFilled)"
   ]
  },
  {
   "cell_type": "markdown",
   "metadata": {},
   "source": [
    "### Step 6\n",
    "- Train a classifier of your choice (for instance, Random Forest) using your dataset of LabeledPoints\n",
    "- Make predictions for the training data\n",
    "- Use the evaluators to find the Area Under ROC and Accuracy of your model\n",
    "- How is your model performing? Try to tune its parameters"
   ]
  },
  {
   "cell_type": "code",
   "execution_count": 54,
   "metadata": {},
   "outputs": [],
   "source": [
    "from pyspark.ml.classification import RandomForestClassifier\n",
    "from pyspark.ml.classification import RandomForestClassificationModel\n",
    "from pyspark.ml.evaluation import BinaryClassificationEvaluator, MulticlassClassificationEvaluator\n",
    "\n",
    "### INSERT YOUR CODE HERE\n",
    "rfC = RandomForestClassifier(labelCol='Survived',\n",
    "                        featuresCol='scaled_vFeatures',\n",
    "                        numTrees=50)\n",
    "\n",
    "model = rfC.fit(df_Vec_train_scaled)\n",
    "predictions = model.transform(df_Vec_train_scaled)"
   ]
  },
  {
   "cell_type": "code",
   "execution_count": null,
   "metadata": {},
   "outputs": [],
   "source": []
  },
  {
   "cell_type": "code",
   "execution_count": 40,
   "metadata": {},
   "outputs": [
    {
     "ename": "NameError",
     "evalue": "name 'scaled' is not defined",
     "output_type": "error",
     "traceback": [
      "\u001b[0;31m---------------------------------------------------------------------------\u001b[0m",
      "\u001b[0;31mNameError\u001b[0m                                 Traceback (most recent call last)",
      "\u001b[0;32m<ipython-input-40-2fe085c574f2>\u001b[0m in \u001b[0;36m<module>\u001b[0;34m()\u001b[0m\n\u001b[1;32m     11\u001b[0m                         numTrees=50)\n\u001b[1;32m     12\u001b[0m \u001b[0;34m\u001b[0m\u001b[0m\n\u001b[0;32m---> 13\u001b[0;31m \u001b[0mmodel\u001b[0m \u001b[0;34m=\u001b[0m \u001b[0mrfC\u001b[0m\u001b[0;34m.\u001b[0m\u001b[0mfit\u001b[0m\u001b[0;34m(\u001b[0m\u001b[0mscaled\u001b[0m\u001b[0;34m)\u001b[0m\u001b[0;34m\u001b[0m\u001b[0m\n\u001b[0m\u001b[1;32m     14\u001b[0m \u001b[0;34m\u001b[0m\u001b[0m\n\u001b[1;32m     15\u001b[0m \u001b[0mpredictions\u001b[0m \u001b[0;34m=\u001b[0m \u001b[0mmodel\u001b[0m\u001b[0;34m.\u001b[0m\u001b[0mtransform\u001b[0m\u001b[0;34m(\u001b[0m\u001b[0mscaled\u001b[0m\u001b[0;34m)\u001b[0m\u001b[0;34m\u001b[0m\u001b[0m\n",
      "\u001b[0;31mNameError\u001b[0m: name 'scaled' is not defined"
     ]
    }
   ],
   "source": [
    "# Daniels code\n",
    "from pyspark.ml.classification import RandomForestClassifier, LogisticRegression\n",
    "from pyspark.ml.classification import RandomForestClassificationModel, LogisticRegressionModel\n",
    "\n",
    "# Trains a RF classifier and make predictions\n",
    "rfC = RandomForestClassifier(labelCol='Survived',\n",
    "                        featuresCol='scaledFeat',\n",
    "                        #rawPredictionCol='rf_raw',\n",
    "                        #probabilityCol='rf_prob',\n",
    "                        #predictionCol='rf_pred',\n",
    "                        numTrees=50)\n",
    "\n",
    "model = rfC.fit(scaled)\n",
    "\n",
    "predictions = model.transform(scaled)\n",
    "\n",
    "lr = LogisticRegression(labelCol='Survived',\n",
    "                        featuresCol='scaledFeat',\n",
    "                        rawPredictionCol='lr_raw',\n",
    "                        probabilityCol='lr_prob',\n",
    "                        predictionCol='lr_pred')\n",
    "pipeline2 = Pipeline(stages=[rfC, lr])\n",
    "model2 = pipeline2.fit(scaled)\n",
    "model2.transform(scaled).limit(5).toPandas()"
   ]
  },
  {
   "cell_type": "code",
   "execution_count": 44,
   "metadata": {},
   "outputs": [
    {
     "name": "stdout",
     "output_type": "stream",
     "text": [
      "Collecting handyspark\n",
      "  Downloading https://files.pythonhosted.org/packages/ae/52/ab2ce2e18bfaa9b2fe6cf6629b70cb74ddbae311e08ba8b37649f5a46132/handyspark-0.2.1a1-py2.py3-none-any.whl (55kB)\n",
      "\u001b[K    100% |████████████████████████████████| 61kB 182kB/s ta 0:00:01\n",
      "\u001b[?25hRequirement already satisfied: pyspark in /usr/local/spark-2.3.0-bin-hadoop2.7/python (from handyspark)\n",
      "Requirement already satisfied: pyarrow in /opt/conda/lib/python3.6/site-packages (from handyspark)\n",
      "Requirement already satisfied: seaborn in /opt/conda/lib/python3.6/site-packages (from handyspark)\n",
      "Collecting findspark (from handyspark)\n",
      "  Downloading https://files.pythonhosted.org/packages/b1/c8/e6e1f6a303ae5122dc28d131b5a67c5eb87cbf8f7ac5b9f87764ea1b1e1e/findspark-1.3.0-py2.py3-none-any.whl\n",
      "Requirement already satisfied: matplotlib in /opt/conda/lib/python3.6/site-packages (from handyspark)\n",
      "Requirement already satisfied: scikit-learn in /opt/conda/lib/python3.6/site-packages (from handyspark)\n",
      "Requirement already satisfied: scipy in /opt/conda/lib/python3.6/site-packages (from handyspark)\n",
      "Requirement already satisfied: pandas in /opt/conda/lib/python3.6/site-packages (from handyspark)\n",
      "Requirement already satisfied: numpy in /opt/conda/lib/python3.6/site-packages (from handyspark)\n",
      "Collecting py4j==0.10.6 (from pyspark->handyspark)\n",
      "  Downloading https://files.pythonhosted.org/packages/4a/08/162710786239aa72bd72bb46c64f2b02f54250412ba928cb373b30699139/py4j-0.10.6-py2.py3-none-any.whl (189kB)\n",
      "\u001b[K    100% |████████████████████████████████| 194kB 68kB/s ta 0:00:011\n",
      "\u001b[?25hRequirement already satisfied: six>=1.0.0 in /opt/conda/lib/python3.6/site-packages (from pyarrow->handyspark)\n",
      "Requirement already satisfied: python-dateutil>=2.1 in /opt/conda/lib/python3.6/site-packages (from matplotlib->handyspark)\n",
      "Requirement already satisfied: pytz in /opt/conda/lib/python3.6/site-packages (from matplotlib->handyspark)\n",
      "Requirement already satisfied: cycler>=0.10 in /opt/conda/lib/python3.6/site-packages/cycler-0.10.0-py3.6.egg (from matplotlib->handyspark)\n",
      "Requirement already satisfied: pyparsing!=2.0.4,!=2.1.2,!=2.1.6,>=2.0.1 in /opt/conda/lib/python3.6/site-packages (from matplotlib->handyspark)\n",
      "Installing collected packages: findspark, handyspark, py4j\n",
      "Successfully installed findspark-1.3.0 handyspark-0.2.1a1 py4j-0.10.6\n",
      "\u001b[33mYou are using pip version 9.0.1, however version 19.0.3 is available.\n",
      "You should consider upgrading via the 'pip install --upgrade pip' command.\u001b[0m\n"
     ]
    }
   ],
   "source": [
    "!pip install handyspark"
   ]
  },
  {
   "cell_type": "code",
   "execution_count": 55,
   "metadata": {},
   "outputs": [
    {
     "data": {
      "text/html": [
       "<div>\n",
       "<style scoped>\n",
       "    .dataframe tbody tr th:only-of-type {\n",
       "        vertical-align: middle;\n",
       "    }\n",
       "\n",
       "    .dataframe tbody tr th {\n",
       "        vertical-align: top;\n",
       "    }\n",
       "\n",
       "    .dataframe thead tr th {\n",
       "        text-align: left;\n",
       "    }\n",
       "</style>\n",
       "<table border=\"1\" class=\"dataframe\">\n",
       "  <thead>\n",
       "    <tr>\n",
       "      <th></th>\n",
       "      <th></th>\n",
       "      <th colspan=\"2\" halign=\"left\">Predicted</th>\n",
       "    </tr>\n",
       "    <tr>\n",
       "      <th></th>\n",
       "      <th></th>\n",
       "      <th>0</th>\n",
       "      <th>1</th>\n",
       "    </tr>\n",
       "  </thead>\n",
       "  <tbody>\n",
       "    <tr>\n",
       "      <th rowspan=\"2\" valign=\"top\">Actual</th>\n",
       "      <th>0</th>\n",
       "      <td>500.0</td>\n",
       "      <td>49.0</td>\n",
       "    </tr>\n",
       "    <tr>\n",
       "      <th>1</th>\n",
       "      <td>97.0</td>\n",
       "      <td>243.0</td>\n",
       "    </tr>\n",
       "  </tbody>\n",
       "</table>\n",
       "</div>"
      ],
      "text/plain": [
       "         Predicted       \n",
       "                 0      1\n",
       "Actual 0     500.0   49.0\n",
       "       1      97.0  243.0"
      ]
     },
     "execution_count": 55,
     "metadata": {},
     "output_type": "execute_result"
    }
   ],
   "source": [
    "%matplotlib inline\n",
    "from handyspark.extensions import BinaryClassificationMetrics\n",
    "\n",
    "bcm = BinaryClassificationMetrics(scoreAndLabels=predictions,\n",
    "                                  scoreCol='probability',\n",
    "                                  labelCol='Survived')\n",
    "bcm.print_confusion_matrix(.5)"
   ]
  },
  {
   "cell_type": "code",
   "execution_count": 56,
   "metadata": {},
   "outputs": [
    {
     "data": {
      "text/plain": [
       "<matplotlib.axes._subplots.AxesSubplot at 0x7f42bf49dda0>"
      ]
     },
     "execution_count": 56,
     "metadata": {},
     "output_type": "execute_result"
    },
    {
     "data": {
      "image/png": "[encoded data removed]",
      "text/plain": [
       "<matplotlib.figure.Figure at 0x7f42c1d8fb38>"
      ]
     },
     "metadata": {},
     "output_type": "display_data"
    }
   ],
   "source": [
    "bcm.plot_roc_curve()"
   ]
  },
  {
   "cell_type": "markdown",
   "metadata": {},
   "source": [
    "### Step 7\n",
    "- Take a look at the test data - use DataFrame's ***createOrReplaceTempView*** method to perform SQL queries over the data\n",
    "    - hint: check if there are any NULL values in the dataset - if so, handle them\n",
    "- Apply the transformations to the test data\n",
    "    - hint: include the model to the pipeline\n",
    "- Make predictions using the model previously trained and the transformed test data"
   ]
  },
  {
   "cell_type": "code",
   "execution_count": 60,
   "metadata": {},
   "outputs": [
    {
     "name": "stdout",
     "output_type": "stream",
     "text": [
      "+--------------------+--------------------+--------------------+--------------------+----------+\n",
      "|           vFeatures|    scaled_vFeatures|       rawPrediction|         probability|prediction|\n",
      "+--------------------+--------------------+--------------------+--------------------+----------+\n",
      "|(9,[0,6],[1.0,34.5])|[0.75502418334112...|[43.2011032107214...|[0.86402206421442...|       0.0|\n",
      "|(9,[1,6,7],[1.0,4...|[-1.3212923208469...|[26.2712941135463...|[0.52542588227092...|       0.0|\n",
      "|(9,[0,5,6],[1.0,1...|[0.75502418334112...|[44.2593549098681...|[0.88518709819736...|       0.0|\n",
      "|(9,[0,1,6],[1.0,1...|[0.75502418334112...|[42.7647727359579...|[0.85529545471915...|       0.0|\n",
      "|(9,[1,6,7,8],[1.0...|[-1.3212923208469...|[26.7006425809860...|[0.53401285161972...|       0.0|\n",
      "|(9,[0,1,6],[1.0,1...|[0.75502418334112...|[35.9831013436663...|[0.71966202687332...|       0.0|\n",
      "|      (9,[6],[30.0])|[-1.3212923208469...|[17.8178019778268...|[0.35635603955653...|       1.0|\n",
      "|[1.0,1.0,0.0,0.0,...|[0.75502418334112...|[39.4879027238091...|[0.78975805447618...|       0.0|\n",
      "|(9,[2,6],[1.0,18.0])|[-1.3212923208469...|[17.0785306189059...|[0.34157061237811...|       1.0|\n",
      "|(9,[0,1,6,7],[1.0...|[0.75502418334112...|[44.3511353086135...|[0.88702270617227...|       0.0|\n",
      "|(9,[0,1,6],[1.0,1...|[0.75502418334112...|[43.7605088238798...|[0.87521017647759...|       0.0|\n",
      "|(9,[0,1,4,6],[1.0...|[0.75502418334112...|[33.4660278007098...|[0.66932055601419...|       0.0|\n",
      "|(9,[1,4,6,7],[1.0...|[-1.3212923208469...|[8.63265198331821...|[0.17265303966636...|       1.0|\n",
      "|[1.0,1.0,0.0,0.0,...|[0.75502418334112...|[43.6631450425994...|[0.87326290085198...|       0.0|\n",
      "|(9,[1,4,6,7],[1.0...|[-1.3212923208469...|[8.36633846267546...|[0.16732676925350...|       1.0|\n",
      "|(9,[2,5,6,7],[1.0...|[-1.3212923208469...|[5.91993087469928...|[0.11839861749398...|       1.0|\n",
      "|(9,[0,5,6],[1.0,1...|[0.75502418334112...|[44.4970538197168...|[0.88994107639433...|       0.0|\n",
      "|(9,[0,2,6],[1.0,1...|[0.75502418334112...|[38.7240935630231...|[0.77448187126046...|       0.0|\n",
      "|(9,[1,6,7],[1.0,2...|[-1.3212923208469...|[23.1582002627361...|[0.46316400525472...|       1.0|\n",
      "|(9,[2,6],[1.0,45.0])|[-1.3212923208469...|[21.8657046114629...|[0.43731409222925...|       1.0|\n",
      "+--------------------+--------------------+--------------------+--------------------+----------+\n",
      "only showing top 20 rows\n",
      "\n"
     ]
    }
   ],
   "source": [
    "### INSERT YOUR CODE HERE\n",
    "#df_Vec_test_scaled.createOrReplaceTempView(\"vec_test_scaled_view\")\n",
    "#sqlDF = sqlc.sql(\"SELECT * FROM vec_test_scaled_view WHERE \")\n",
    "#sqlDF.show()\n",
    "# <-- already did the transformations above during conversion of train set\n",
    "rfC = RandomForestClassifier(labelCol='Survived',\n",
    "                        featuresCol='scaled_vFeatures',\n",
    "                        numTrees=50)\n",
    "\n",
    "model = rfC.fit(df_Vec_train_scaled)\n",
    "predictions = model.transform(df_Vec_test_scaled)\n",
    "predictions.show()"
   ]
  },
  {
   "cell_type": "markdown",
   "metadata": {},
   "source": [
    "### Step 8\n",
    "\n",
    "- Load the answers for the ***test*** data\n",
    "- Combine it with your predictions into a single DataFrame\n",
    "- Use the evaluator you created on ***Step 6***\n",
    "- What was your score?"
   ]
  },
  {
   "cell_type": "code",
   "execution_count": null,
   "metadata": {},
   "outputs": [],
   "source": [
    "### INSERT YOUR CODE HERE"
   ]
  }
 ],
 "metadata": {
  "anaconda-cloud": {},
  "kernelspec": {
   "display_name": "Python 3",
   "language": "python",
   "name": "python3"
  },
  "language_info": {
   "codemirror_mode": {
    "name": "ipython",
    "version": 3
   },
   "file_extension": ".py",
   "mimetype": "text/x-python",
   "name": "python",
   "nbconvert_exporter": "python",
   "pygments_lexer": "ipython3",
   "version": "3.6.4"
  }
 },
 "nbformat": 4,
 "nbformat_minor": 1
}

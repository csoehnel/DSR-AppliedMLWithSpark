{
 "cells": [
  {
   "cell_type": "code",
   "execution_count": 1,
   "metadata": {},
   "outputs": [],
   "source": [
    "import pyspark\n",
    "sc = pyspark.SparkContext('local[*]')"
   ]
  },
  {
   "cell_type": "code",
   "execution_count": 2,
   "metadata": {},
   "outputs": [],
   "source": [
    "# needed whenever working with spark dataframes\n",
    "from pyspark.sql import *\n",
    "!rm -rf metastore_db/\n",
    "sqlContext = SQLContext(sc)"
   ]
  },
  {
   "cell_type": "code",
   "execution_count": 3,
   "metadata": {},
   "outputs": [
    {
     "name": "stdout",
     "output_type": "stream",
     "text": [
      "--2019-03-15 14:13:09--  https://ibm.box.com/shared/static/f1dhhjnzjwxmy2c1ys2whvrgz05d1pui.csv\n",
      "Resolving ibm.box.com (ibm.box.com)... 185.235.236.197\n",
      "Connecting to ibm.box.com (ibm.box.com)|185.235.236.197|:443... connected.\n",
      "HTTP request sent, awaiting response... 301 Moved Permanently\n",
      "Location: /public/static/f1dhhjnzjwxmy2c1ys2whvrgz05d1pui.csv [following]\n",
      "--2019-03-15 14:13:10--  https://ibm.box.com/public/static/f1dhhjnzjwxmy2c1ys2whvrgz05d1pui.csv\n",
      "Reusing existing connection to ibm.box.com:443.\n",
      "HTTP request sent, awaiting response... 301 Moved Permanently\n",
      "Location: https://ibm.ent.box.com/public/static/f1dhhjnzjwxmy2c1ys2whvrgz05d1pui.csv [following]\n",
      "--2019-03-15 14:13:10--  https://ibm.ent.box.com/public/static/f1dhhjnzjwxmy2c1ys2whvrgz05d1pui.csv\n",
      "Resolving ibm.ent.box.com (ibm.ent.box.com)... 185.235.236.211\n",
      "Connecting to ibm.ent.box.com (ibm.ent.box.com)|185.235.236.211|:443... connected.\n",
      "HTTP request sent, awaiting response... 302 Found\n",
      "Location: https://public.boxcloud.com/d/1/b1!aDqx9Am6xiaT9djKVAePd1mACx9PLf_kmu40ezzKKdc4S9IVE_NNBm8TJnywpvP7O49_ioCDmxFkX-H_RHhLoTX9ucYGhBzLuywB4Ln-reibBm9uAFaoPRlZVkPaSnrpQVtMsuOphxBZ70BDdkMy0_jGb01tYBs1n4eaPE9FAMX8UMPBBac7SdSBkLGYiVSUpHI-S7o9br-uSCGutT0z32rr0wzJbRFGTbMR1gH2u3W1pU-XItC4zPZAWAXw3ChUXpipgJ3DHFNBosByn61JZnauhHcbamFRF8YZHPOt3fd0pvg4Cqy1x8ON0d9gu3cYarCx74p7rLnlbSSxzEnuKk-Ubf1cJIj4LVl5tbThPewHMYXpf4jDhYRjhQiBnCJQksrR3lu6EwSciWLOs2-SMVGkIFs_gCVujYiaAxBHuy4EH9G_YQzFkvPJRJe1ZYrQWWOu-LV9hoGyBtRRVI9Jo_r7xLxGVFdwvYhCSpONWwmTeys4rDP46ibU00wPNCDpbn1bjFKcDkKCqdCMTkgWbEFnpH4nf0Y3FHm7fvSX2RTr_rpjjeoGGSaqbC2xP7FGZUlMP1LiB7lwThLa-aTWV-eYDcG6F9XwYcHbimkKYO1_3CPGQT95AbIOkFiB0u75reDFlaMUf58uiC-ibvdbNtwGTrc3JNwYxaqeDchimpIb4tJs5yIR3qvpFiKSqLNMMuau5LFjotTpFuKMbXSHDWRsfXFEncobQC3VoVfIC1m-izQAWJh8Y2rH_aG9CZ1Kvy_9YdhcEy4O3dc3oziEG63_2iRCoqX6ew4WzBSjqWeZLta3imzJVaYRDeOk1QPJFxZLVfCutErsssAyG9KkSNszuMBwBj5b4WuYIcJ5rXqdQ-6FcdobE-ymUkn10B9W9lbJ4O3dUR0B-x9auvdoPgImFuYV9JII9g1WLHWM4nap-P90rmmAxIxjv6qmkm2z0PmcA4UtHyLtaOIy7q-4V5p7ZaWzL9_12Y6YILQOkyRxWTfJWSj4wHWmDpyP0i9kpLLB1NAzeBReJ-1NFqRmZ6ifETJ-AqswgdfRLw0VIMOCAZXOtn7kPrGv_pmYD1SppWkaXG7UhQruUIWTPQ5b60eQozrkngi_4ZfanpXqEFXqxhmTCQWANl2TsppCCq9quB4ONmAGDZUZHVVHuISCRGKYQ5ncY511OH4c6B5DX16pHPssyXSSjib3T5S62SToVulJlonk-nk5ZpW6EjxPMB88V0xEEFCB7BxOIyOhJU55Y0-MKZB1P4UnrAd3MzoiK5Mjl2XaYSLbS08Re5wfXVwJGAIWZuLYrUyhopQfZkzC2te-JGgN9B0R2H8NIkAsT5xi3BarMVCJQveV5VZNJdoLxCtP7DwlTn_foHrmVugf_BXs8jsHk3e3hO4BqZdnGU24_lmdKvBVzkl0svPv3rZNzTi_edbLx62n0E7v4stEQEUH2ks./download [following]\n",
      "--2019-03-15 14:13:11--  https://public.boxcloud.com/d/1/b1!aDqx9Am6xiaT9djKVAePd1mACx9PLf_kmu40ezzKKdc4S9IVE_NNBm8TJnywpvP7O49_ioCDmxFkX-H_RHhLoTX9ucYGhBzLuywB4Ln-reibBm9uAFaoPRlZVkPaSnrpQVtMsuOphxBZ70BDdkMy0_jGb01tYBs1n4eaPE9FAMX8UMPBBac7SdSBkLGYiVSUpHI-S7o9br-uSCGutT0z32rr0wzJbRFGTbMR1gH2u3W1pU-XItC4zPZAWAXw3ChUXpipgJ3DHFNBosByn61JZnauhHcbamFRF8YZHPOt3fd0pvg4Cqy1x8ON0d9gu3cYarCx74p7rLnlbSSxzEnuKk-Ubf1cJIj4LVl5tbThPewHMYXpf4jDhYRjhQiBnCJQksrR3lu6EwSciWLOs2-SMVGkIFs_gCVujYiaAxBHuy4EH9G_YQzFkvPJRJe1ZYrQWWOu-LV9hoGyBtRRVI9Jo_r7xLxGVFdwvYhCSpONWwmTeys4rDP46ibU00wPNCDpbn1bjFKcDkKCqdCMTkgWbEFnpH4nf0Y3FHm7fvSX2RTr_rpjjeoGGSaqbC2xP7FGZUlMP1LiB7lwThLa-aTWV-eYDcG6F9XwYcHbimkKYO1_3CPGQT95AbIOkFiB0u75reDFlaMUf58uiC-ibvdbNtwGTrc3JNwYxaqeDchimpIb4tJs5yIR3qvpFiKSqLNMMuau5LFjotTpFuKMbXSHDWRsfXFEncobQC3VoVfIC1m-izQAWJh8Y2rH_aG9CZ1Kvy_9YdhcEy4O3dc3oziEG63_2iRCoqX6ew4WzBSjqWeZLta3imzJVaYRDeOk1QPJFxZLVfCutErsssAyG9KkSNszuMBwBj5b4WuYIcJ5rXqdQ-6FcdobE-ymUkn10B9W9lbJ4O3dUR0B-x9auvdoPgImFuYV9JII9g1WLHWM4nap-P90rmmAxIxjv6qmkm2z0PmcA4UtHyLtaOIy7q-4V5p7ZaWzL9_12Y6YILQOkyRxWTfJWSj4wHWmDpyP0i9kpLLB1NAzeBReJ-1NFqRmZ6ifETJ-AqswgdfRLw0VIMOCAZXOtn7kPrGv_pmYD1SppWkaXG7UhQruUIWTPQ5b60eQozrkngi_4ZfanpXqEFXqxhmTCQWANl2TsppCCq9quB4ONmAGDZUZHVVHuISCRGKYQ5ncY511OH4c6B5DX16pHPssyXSSjib3T5S62SToVulJlonk-nk5ZpW6EjxPMB88V0xEEFCB7BxOIyOhJU55Y0-MKZB1P4UnrAd3MzoiK5Mjl2XaYSLbS08Re5wfXVwJGAIWZuLYrUyhopQfZkzC2te-JGgN9B0R2H8NIkAsT5xi3BarMVCJQveV5VZNJdoLxCtP7DwlTn_foHrmVugf_BXs8jsHk3e3hO4BqZdnGU24_lmdKvBVzkl0svPv3rZNzTi_edbLx62n0E7v4stEQEUH2ks./download\n",
      "Resolving public.boxcloud.com (public.boxcloud.com)... 185.235.236.200\n",
      "Connecting to public.boxcloud.com (public.boxcloud.com)|185.235.236.200|:443... connected.\n",
      "HTTP request sent, awaiting response... 200 OK\n",
      "Length: 1697 (1.7K) [text/csv]\n",
      "Saving to: ‘f1dhhjnzjwxmy2c1ys2whvrgz05d1pui.csv’\n",
      "\n",
      "f1dhhjnzjwxmy2c1ys2 100%[===================>]   1.66K  --.-KB/s    in 0.005s  \n",
      "\n",
      "2019-03-15 14:13:12 (347 KB/s) - ‘f1dhhjnzjwxmy2c1ys2whvrgz05d1pui.csv’ saved [1697/1697]\n",
      "\n"
     ]
    }
   ],
   "source": [
    "!wget https://ibm.box.com/shared/static/f1dhhjnzjwxmy2c1ys2whvrgz05d1pui.csv"
   ]
  },
  {
   "cell_type": "code",
   "execution_count": 4,
   "metadata": {},
   "outputs": [],
   "source": [
    "# using inferschema is very handy, but adds a second pass over the data\n",
    "\n",
    "df = sqlContext.read.format('com.databricks.spark.csv')\\\n",
    "                .option('header', 'true')\\\n",
    "                .option('inferschema', 'true')\\\n",
    "                .option('mode', 'DROPMALFORMED')\\\n",
    "                .load('f1dhhjnzjwxmy2c1ys2whvrgz05d1pui.csv')"
   ]
  },
  {
   "cell_type": "code",
   "execution_count": 5,
   "metadata": {},
   "outputs": [
    {
     "data": {
      "text/plain": [
       "32"
      ]
     },
     "execution_count": 5,
     "metadata": {},
     "output_type": "execute_result"
    }
   ],
   "source": [
    "df.count()"
   ]
  },
  {
   "cell_type": "code",
   "execution_count": 6,
   "metadata": {},
   "outputs": [
    {
     "name": "stdout",
     "output_type": "stream",
     "text": [
      "root\n",
      " |-- car: string (nullable = true)\n",
      " |-- mpg: double (nullable = true)\n",
      " |-- cyl: integer (nullable = true)\n",
      " |-- disp: double (nullable = true)\n",
      " |-- hp: integer (nullable = true)\n",
      " |-- drat: double (nullable = true)\n",
      " |-- wt: double (nullable = true)\n",
      " |-- qsec: double (nullable = true)\n",
      " |-- vs: integer (nullable = true)\n",
      " |-- am: integer (nullable = true)\n",
      " |-- gear: integer (nullable = true)\n",
      " |-- carb: integer (nullable = true)\n",
      "\n"
     ]
    }
   ],
   "source": [
    "df.printSchema()"
   ]
  },
  {
   "cell_type": "code",
   "execution_count": 7,
   "metadata": {},
   "outputs": [
    {
     "name": "stdout",
     "output_type": "stream",
     "text": [
      "+-----------------+----+---+-----+---+----+-----+-----+---+---+----+----+\n",
      "|              car| mpg|cyl| disp| hp|drat|   wt| qsec| vs| am|gear|carb|\n",
      "+-----------------+----+---+-----+---+----+-----+-----+---+---+----+----+\n",
      "|        Mazda RX4|21.0|  6|160.0|110| 3.9| 2.62|16.46|  0|  1|   4|   4|\n",
      "|    Mazda RX4 Wag|21.0|  6|160.0|110| 3.9|2.875|17.02|  0|  1|   4|   4|\n",
      "|       Datsun 710|22.8|  4|108.0| 93|3.85| 2.32|18.61|  1|  1|   4|   1|\n",
      "|   Hornet 4 Drive|21.4|  6|258.0|110|3.08|3.215|19.44|  1|  0|   3|   1|\n",
      "|Hornet Sportabout|18.7|  8|360.0|175|3.15| 3.44|17.02|  0|  0|   3|   2|\n",
      "+-----------------+----+---+-----+---+----+-----+-----+---+---+----+----+\n",
      "only showing top 5 rows\n",
      "\n"
     ]
    }
   ],
   "source": [
    "df.show(5)"
   ]
  },
  {
   "cell_type": "code",
   "execution_count": 8,
   "metadata": {},
   "outputs": [
    {
     "name": "stdout",
     "output_type": "stream",
     "text": [
      "+-----------------+----+\n",
      "|              car| mpg|\n",
      "+-----------------+----+\n",
      "|        Mazda RX4|21.0|\n",
      "|    Mazda RX4 Wag|21.0|\n",
      "|       Datsun 710|22.8|\n",
      "|   Hornet 4 Drive|21.4|\n",
      "|Hornet Sportabout|18.7|\n",
      "+-----------------+----+\n",
      "only showing top 5 rows\n",
      "\n"
     ]
    }
   ],
   "source": [
    "df.select('car', 'mpg').show(5)"
   ]
  },
  {
   "cell_type": "code",
   "execution_count": 9,
   "metadata": {},
   "outputs": [
    {
     "name": "stdout",
     "output_type": "stream",
     "text": [
      "+-----------+----+---+-----+---+----+----+-----+---+---+----+----+\n",
      "|        car| mpg|cyl| disp| hp|drat|  wt| qsec| vs| am|gear|carb|\n",
      "+-----------+----+---+-----+---+----+----+-----+---+---+----+----+\n",
      "| Duster 360|14.3|  8|360.0|245|3.21|3.57|15.84|  0|  0|   3|   4|\n",
      "|  Merc 280C|17.8|  6|167.6|123|3.92|3.44| 18.9|  1|  0|   4|   4|\n",
      "| Merc 450SE|16.4|  8|275.8|180|3.07|4.07| 17.4|  0|  0|   3|   3|\n",
      "| Merc 450SL|17.3|  8|275.8|180|3.07|3.73| 17.6|  0|  0|   3|   3|\n",
      "|Merc 450SLC|15.2|  8|275.8|180|3.07|3.78| 18.0|  0|  0|   3|   3|\n",
      "+-----------+----+---+-----+---+----+----+-----+---+---+----+----+\n",
      "only showing top 5 rows\n",
      "\n"
     ]
    }
   ],
   "source": [
    "df.filter(df['mpg'] < 18).show(5)"
   ]
  },
  {
   "cell_type": "code",
   "execution_count": 10,
   "metadata": {},
   "outputs": [
    {
     "name": "stdout",
     "output_type": "stream",
     "text": [
      "+-----------+----+---+-----+---+----+----+-----+---+---+----+----+\n",
      "|        car| mpg|cyl| disp| hp|drat|  wt| qsec| vs| am|gear|carb|\n",
      "+-----------+----+---+-----+---+----+----+-----+---+---+----+----+\n",
      "| Duster 360|14.3|  8|360.0|245|3.21|3.57|15.84|  0|  0|   3|   4|\n",
      "|  Merc 280C|17.8|  6|167.6|123|3.92|3.44| 18.9|  1|  0|   4|   4|\n",
      "| Merc 450SE|16.4|  8|275.8|180|3.07|4.07| 17.4|  0|  0|   3|   3|\n",
      "| Merc 450SL|17.3|  8|275.8|180|3.07|3.73| 17.6|  0|  0|   3|   3|\n",
      "|Merc 450SLC|15.2|  8|275.8|180|3.07|3.78| 18.0|  0|  0|   3|   3|\n",
      "+-----------+----+---+-----+---+----+----+-----+---+---+----+----+\n",
      "only showing top 5 rows\n",
      "\n"
     ]
    }
   ],
   "source": [
    "# the filter can be just like a SQL where clause\n",
    "df.filter('mpg < 18').show(5)"
   ]
  },
  {
   "cell_type": "code",
   "execution_count": 11,
   "metadata": {},
   "outputs": [
    {
     "name": "stdout",
     "output_type": "stream",
     "text": [
      "+-----------------+----+---+-----+---+----+-----+-----+---+---+----+----+-------+\n",
      "|              car| mpg|cyl| disp| hp|drat|   wt| qsec| vs| am|gear|carb|  wtTon|\n",
      "+-----------------+----+---+-----+---+----+-----+-----+---+---+----+----+-------+\n",
      "|        Mazda RX4|21.0|  6|160.0|110| 3.9| 2.62|16.46|  0|  1|   4|   4|  1.179|\n",
      "|    Mazda RX4 Wag|21.0|  6|160.0|110| 3.9|2.875|17.02|  0|  1|   4|   4|1.29375|\n",
      "|       Datsun 710|22.8|  4|108.0| 93|3.85| 2.32|18.61|  1|  1|   4|   1|  1.044|\n",
      "|   Hornet 4 Drive|21.4|  6|258.0|110|3.08|3.215|19.44|  1|  0|   3|   1|1.44675|\n",
      "|Hornet Sportabout|18.7|  8|360.0|175|3.15| 3.44|17.02|  0|  0|   3|   2|  1.548|\n",
      "|          Valiant|18.1|  6|225.0|105|2.76| 3.46|20.22|  1|  0|   3|   1|  1.557|\n",
      "+-----------------+----+---+-----+---+----+-----+-----+---+---+----+----+-------+\n",
      "only showing top 6 rows\n",
      "\n"
     ]
    }
   ],
   "source": [
    "# dataframes are immutable -- withColumn creates a new one\n",
    "df.withColumn('wtTon', df['wt'] * 0.45).show(6)"
   ]
  },
  {
   "cell_type": "code",
   "execution_count": 12,
   "metadata": {},
   "outputs": [
    {
     "name": "stdout",
     "output_type": "stream",
     "text": [
      "+---+------------------+\n",
      "|cyl|           avg(wt)|\n",
      "+---+------------------+\n",
      "|  6| 3.117142857142857|\n",
      "|  4| 2.285727272727273|\n",
      "|  8|3.9992142857142867|\n",
      "+---+------------------+\n",
      "\n"
     ]
    }
   ],
   "source": [
    "df.groupby(['cyl'])\\\n",
    ".agg({\"wt\": \"AVG\"})\\\n",
    ".show(5)"
   ]
  },
  {
   "cell_type": "code",
   "execution_count": 13,
   "metadata": {},
   "outputs": [
    {
     "name": "stdout",
     "output_type": "stream",
     "text": [
      "+---+--------+\n",
      "|cyl|count(1)|\n",
      "+---+--------+\n",
      "|  8|      14|\n",
      "|  4|      11|\n",
      "|  6|       7|\n",
      "+---+--------+\n",
      "\n"
     ]
    }
   ],
   "source": [
    "car_counts = df.groupby(['cyl'])\\\n",
    ".agg({\"*\": \"count\"})\\\n",
    ".sort(\"count(1)\", ascending=False)\\\n",
    ".show(5)"
   ]
  },
  {
   "cell_type": "code",
   "execution_count": 14,
   "metadata": {},
   "outputs": [
    {
     "name": "stdout",
     "output_type": "stream",
     "text": [
      "+----+\n",
      "|gear|\n",
      "+----+\n",
      "|   4|\n",
      "|   4|\n",
      "|   4|\n",
      "|   3|\n",
      "|   3|\n",
      "|   3|\n",
      "+----+\n",
      "only showing top 6 rows\n",
      "\n"
     ]
    }
   ],
   "source": [
    "df.createOrReplaceTempView(\"cars\")\n",
    "\n",
    "# SQL statements can be run by using the sql method\n",
    "highgearcars = sqlContext.sql(\"SELECT gear FROM cars WHERE cyl >= 4 AND cyl <= 9\")\n",
    "highgearcars.show(6)"
   ]
  },
  {
   "cell_type": "markdown",
   "metadata": {
    "collapsed": true
   },
   "source": [
    "## Exercise 1:\n",
    "\n",
    "Step 1: Create a list of tuples (\"john\", 23), (\"mr. bean\", 56), (\"bill clinton\", 70)\n",
    "\n",
    "Step 2: Convert the list to a data frame with two columns\n",
    "\n",
    "Step 3: Filter the people with age < 40\n",
    "\n",
    "Step 4: Get the names ONLY of people smaller than 40\n",
    "\n",
    "Step 5: Register the dataframe as a SQL table\n",
    "\n",
    "Step 6: Select the names only of people whose age < 40\n",
    "\n",
    "Some hints: http://spark.apache.org/docs/latest/sql-programming-guide.html#generic-loadsave-functions\n",
    "\n",
    "## Exercise 2:\n",
    "\n",
    "Step 1: Create a list of tuple (\"john\", \"male\"), (\"hilary\", \"female\")\n",
    "\n",
    "Step 2: Join with the data from the previos exercise and output all males older than 50\n",
    "\n",
    "Hints: https://databricks.com/blog/2015/02/17/introducing-dataframes-in-spark-for-large-scale-data-science.html"
   ]
  },
  {
   "cell_type": "code",
   "execution_count": null,
   "metadata": {
    "collapsed": true
   },
   "outputs": [],
   "source": [
    "sc.stop()"
   ]
  },
  {
   "cell_type": "code",
   "execution_count": null,
   "metadata": {
    "collapsed": true
   },
   "outputs": [],
   "source": []
  }
 ],
 "metadata": {
  "anaconda-cloud": {},
  "kernelspec": {
   "display_name": "Python 3",
   "language": "python",
   "name": "python3"
  },
  "language_info": {
   "codemirror_mode": {
    "name": "ipython",
    "version": 3
   },
   "file_extension": ".py",
   "mimetype": "text/x-python",
   "name": "python",
   "nbconvert_exporter": "python",
   "pygments_lexer": "ipython3",
   "version": "3.6.4"
  }
 },
 "nbformat": 4,
 "nbformat_minor": 1
}

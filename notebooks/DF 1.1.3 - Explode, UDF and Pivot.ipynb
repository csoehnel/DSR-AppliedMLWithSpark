{
 "cells": [
  {
   "cell_type": "code",
   "execution_count": null,
   "metadata": {
    "collapsed": true
   },
   "outputs": [],
   "source": [
    "import pyspark\n",
    "sc = pyspark.SparkContext('local[*]')"
   ]
  },
  {
   "cell_type": "code",
   "execution_count": null,
   "metadata": {
    "collapsed": true
   },
   "outputs": [],
   "source": [
    "!rm -rf metastore_db/*.lck\n",
    "\n",
    "from pyspark.sql import SQLContext\n",
    "sqlc = SQLContext(sc)"
   ]
  },
  {
   "cell_type": "code",
   "execution_count": null,
   "metadata": {},
   "outputs": [],
   "source": [
    "from collections import namedtuple\n",
    "Sales = namedtuple(\"Sales\",[\"id\",\"account\",\"year\",\"commission\",\"sales_reps\"])\n",
    "\n",
    "sales = sc.parallelize([Sales(1, \"Acme\", \"2013\", 1000, [\"Jim\", \"Tom\"]),\n",
    "         Sales(2, \"Lumos\", \"2013\", 1100, [\"Fred\", \"Ann\"]),\n",
    "         Sales(3, \"Acme\", \"2014\", 2800, [\"Jim\"]),\n",
    "         Sales(4, \"Lumos\", \"2014\", 1200, [\"Ann\"]),\n",
    "         Sales(5, \"Acme\", \"2014\", 4200, [\"Fred\", \"Sally\"])]).toDF()\n",
    "\n",
    "sales.show()"
   ]
  },
  {
   "cell_type": "code",
   "execution_count": null,
   "metadata": {},
   "outputs": [],
   "source": [
    "from pyspark.sql.functions import explode\n",
    "\n",
    "sales.select(\"id\",\"account\",\"year\",\"commission\",explode(\"sales_reps\").alias(\"sales_rep\")).show()"
   ]
  },
  {
   "cell_type": "code",
   "execution_count": null,
   "metadata": {},
   "outputs": [],
   "source": [
    "from pyspark.sql.functions import UserDefinedFunction\n",
    "from pyspark.sql.types import IntegerType\n",
    "\n",
    "column_len = UserDefinedFunction(lambda x: len(x), IntegerType())\n",
    "\n",
    "exploded = sales.select(\"id\",\"account\",\"year\",\"commission\",\n",
    "             column_len(\"sales_reps\").alias(\"num_reps\"),\n",
    "             explode(\"sales_reps\").alias(\"sales_rep\"))\n",
    "\n",
    "exploded.show()"
   ]
  },
  {
   "cell_type": "code",
   "execution_count": null,
   "metadata": {},
   "outputs": [],
   "source": [
    "exploded = exploded.withColumn(\"share\", exploded.commission / exploded.num_reps).drop(\"num_reps\")\n",
    "exploded.show()"
   ]
  },
  {
   "cell_type": "code",
   "execution_count": null,
   "metadata": {},
   "outputs": [],
   "source": [
    "exploded.groupBy(\"sales_rep\").pivot(\"year\").sum(\"share\").orderBy(\"sales_rep\").show()"
   ]
  },
  {
   "cell_type": "code",
   "execution_count": null,
   "metadata": {},
   "outputs": [],
   "source": [
    "exploded.groupBy(\"account\", \"sales_rep\").pivot(\"year\").sum(\"share\").orderBy(\"account\", \"sales_rep\").show()"
   ]
  },
  {
   "cell_type": "code",
   "execution_count": null,
   "metadata": {
    "collapsed": true
   },
   "outputs": [],
   "source": [
    "sc.stop()"
   ]
  },
  {
   "cell_type": "code",
   "execution_count": null,
   "metadata": {
    "collapsed": true
   },
   "outputs": [],
   "source": []
  }
 ],
 "metadata": {
  "anaconda-cloud": {},
  "kernelspec": {
   "display_name": "Python 3",
   "language": "python",
   "name": "python3"
  },
  "language_info": {
   "codemirror_mode": {
    "name": "ipython",
    "version": 3
   },
   "file_extension": ".py",
   "mimetype": "text/x-python",
   "name": "python",
   "nbconvert_exporter": "python",
   "pygments_lexer": "ipython3",
   "version": "3.6.4"
  }
 },
 "nbformat": 4,
 "nbformat_minor": 1
}

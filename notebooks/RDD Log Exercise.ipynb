{
 "cells": [
  {
   "cell_type": "markdown",
   "metadata": {},
   "source": [
    "## [NASA logs for July 1995](http://ita.ee.lbl.gov/html/contrib/NASA-HTTP.html)"
   ]
  },
  {
   "cell_type": "code",
   "execution_count": 2,
   "metadata": {},
   "outputs": [],
   "source": [
    "from pyspark.sql import SparkSession\n",
    "\n",
    "spark = SparkSession.builder.getOrCreate()"
   ]
  },
  {
   "cell_type": "code",
   "execution_count": 1,
   "metadata": {},
   "outputs": [
    {
     "name": "stdout",
     "output_type": "stream",
     "text": [
      "--2019-03-16 16:24:50--  ftp://ita.ee.lbl.gov/traces/NASA_access_log_Jul95.gz\n",
      "           => ‘NASA_access_log_Jul95.gz’\n",
      "Resolving ita.ee.lbl.gov (ita.ee.lbl.gov)... 131.243.2.164, 2620:83:8000:102::a4\n",
      "Connecting to ita.ee.lbl.gov (ita.ee.lbl.gov)|131.243.2.164|:21... connected.\n",
      "Logging in as anonymous ... Logged in!\n",
      "==> SYST ... done.    ==> PWD ... done.\n",
      "==> TYPE I ... done.  ==> CWD (1) /traces ... done.\n",
      "==> SIZE NASA_access_log_Jul95.gz ... 20676672\n",
      "==> PASV ... done.    ==> RETR NASA_access_log_Jul95.gz ... done.\n",
      "Length: 20676672 (20M) (unauthoritative)\n",
      "\n",
      "NASA_access_log_Jul   3%[                    ] 772.19K   244KB/s    eta 79s    ^C\n",
      "gzip: NASA_access_log_Jul95 already exists; do you wish to overwrite (y or n)? ^C\n"
     ]
    }
   ],
   "source": [
    "!wget ftp://ita.ee.lbl.gov/traces/NASA_access_log_Jul95.gz\n",
    "!gunzip NASA_access_log_Jul95.gz"
   ]
  },
  {
   "cell_type": "markdown",
   "metadata": {},
   "source": [
    "## Load logs into a RDD"
   ]
  },
  {
   "cell_type": "code",
   "execution_count": 3,
   "metadata": {},
   "outputs": [
    {
     "name": "stdout",
     "output_type": "stream",
     "text": [
      "199.72.81.55 - - [01/Jul/1995:00:00:01 -0400] \"GET /history/apollo/ HTTP/1.0\" 200 6245\n"
     ]
    }
   ],
   "source": [
    "sc = spark.sparkContext\n",
    "# INSERT CODE HERE\n",
    "rdd = sc.textFile('NASA_access_log_Jul95')\n",
    "sample_line = rdd.take(1)[0]\n",
    "print(sample_line)"
   ]
  },
  {
   "cell_type": "code",
   "execution_count": null,
   "metadata": {},
   "outputs": [],
   "source": [
    "#weblog.findall(sample_line)[0]\n",
    "weblog.findall(\"Hello world\")"
   ]
  },
  {
   "cell_type": "markdown",
   "metadata": {},
   "source": [
    "### How many non-empty lines?"
   ]
  },
  {
   "cell_type": "code",
   "execution_count": 50,
   "metadata": {},
   "outputs": [
    {
     "data": {
      "text/plain": [
       "1891715"
      ]
     },
     "execution_count": 50,
     "metadata": {},
     "output_type": "execute_result"
    }
   ],
   "source": [
    "# INSERT CODE HERE\n",
    "def non_empty(line):\n",
    "    return len(line) > 0\n",
    "\n",
    "non_empty(sample_line)\n",
    "\n",
    "rdd.filter(non_empty).count()"
   ]
  },
  {
   "cell_type": "markdown",
   "metadata": {},
   "source": [
    "### Create a function to parse Apache logs and, at the same time, counts malformed lines"
   ]
  },
  {
   "cell_type": "code",
   "execution_count": 6,
   "metadata": {},
   "outputs": [
    {
     "name": "stdout",
     "output_type": "stream",
     "text": [
      "Malformed lines: 1902\n"
     ]
    }
   ],
   "source": [
    "import re\n",
    "# host unused user time method resource status size referer agent \n",
    "pattern = '^(\\S+) \\S+ (\\S+) \\[([\\w:/]+\\s[+\\-]\\d{4})\\] \"(\\S+)\\s?(\\S+)?\\s?(\\S+)?\" (\\d{3}|-) (\\d+|-)\\s?\"?([^\"]*)\"?\\s?\"?([^\"]*)?\"?$'\n",
    "weblog = re.compile(pattern=pattern)\n",
    "\n",
    "# TIP: you can use Accumulator to count lines\n",
    "# Make sure you return an empty string ('') \n",
    "# whenever you find a malformed line\n",
    "\n",
    "malformed_lines = sc.accumulator(0)\n",
    "#bad_line = spark.sparkContext.accumulator(0)\n",
    "def process_logs(line):\n",
    "    # INSERT CODE HERE\n",
    "    global malformed_lines\n",
    "    if len(weblog.findall(line)) == 0:\n",
    "        malformed_lines.add(1)\n",
    "        return ''\n",
    "    else:\n",
    "        return weblog.findall(line)[0]\n",
    "\n",
    "#def process_logs(line):\n",
    "#    try:\n",
    "#        return weblog.findall(line)[0]\n",
    "#    except IndexError:\n",
    "#        malformed_lines.add(1)\n",
    "#        return ''\n",
    "\n",
    "log_entries = rdd.map(process_logs)\n",
    "log_entries.count() # just for triggering lazy spark\n",
    "print(f\"Malformed lines: {malformed_lines.value}\")"
   ]
  },
  {
   "cell_type": "code",
   "execution_count": null,
   "metadata": {},
   "outputs": [],
   "source": [
    "# Taking one row\n",
    "print(nasa.take(1)[0])"
   ]
  },
  {
   "cell_type": "code",
   "execution_count": null,
   "metadata": {},
   "outputs": [],
   "source": [
    "# Applies parsing function and \n",
    "parsed_nasa = nasa.map(process_logs)\n",
    "# Check how many empty lines you got\n",
    "parsed_nasa.filter(lambda line: line == '').count()"
   ]
  },
  {
   "cell_type": "code",
   "execution_count": null,
   "metadata": {},
   "outputs": [],
   "source": [
    "# Check the accumulator value\n",
    "# Both values should match"
   ]
  },
  {
   "cell_type": "markdown",
   "metadata": {},
   "source": [
    "### Create a function to convert a tuple into a Row object"
   ]
  },
  {
   "cell_type": "code",
   "execution_count": null,
   "metadata": {},
   "outputs": [],
   "source": [
    "import time, datetime\n",
    "\n",
    "def parse_time(str_time):\n",
    "    tt = time.strptime(str_time[:-6], \"%d/%b/%Y:%H:%M:%S\")\n",
    "    return datetime.datetime(*tt[:6])"
   ]
  },
  {
   "cell_type": "code",
   "execution_count": null,
   "metadata": {},
   "outputs": [],
   "source": [
    "from pyspark.sql import Row\n",
    "\n",
    "# The size of the response in the logs may be '-' sometimes\n",
    "# Create a function that converts the size to an integer value\n",
    "# and returns -1 for invalid sizes, while also keeping track\n",
    "# of how many times it happened in the NO_SIZE variable\n",
    "# (hint: Accumulator)\n",
    "\n",
    "no_size = ...\n",
    "\n",
    "def to_int(value):\n",
    "    # INSERT CODE HERE\n",
    "    pass\n",
    "\n",
    "# Leveraging on the previous function, that converts a line\n",
    "# from the logs into a tuple using RegEx, populate a Row object\n",
    "# to make it ready to turn into a DataFrame\n",
    "\n",
    "def log_to_row(line):\n",
    "    # INSERT CODE HERE\n",
    "    # Process the line into fields\n",
    "    \n",
    "    # If it is a malformed line, it will return an empty string\n",
    "    # So we create mock fields for it\n",
    "    if fields == '':\n",
    "        fields = [''] * 10\n",
    "        fields[2] = '01/Jan/1900:00:00:00 -0000'\n",
    "        fields[6] = 0\n",
    "\n",
    "    # INSERT CODE HERE\n",
    "    # Create a row object with all the fields\n",
    "    # host, user, time, method, resource, protocol, status, size, referer, agent\n",
    "    row = ...\n",
    "    \n",
    "    return row"
   ]
  },
  {
   "cell_type": "code",
   "execution_count": null,
   "metadata": {},
   "outputs": [],
   "source": [
    "log_to_row(nasa.take(1)[0])"
   ]
  },
  {
   "cell_type": "markdown",
   "metadata": {},
   "source": [
    "### Create a DataFrame"
   ]
  },
  {
   "cell_type": "code",
   "execution_count": null,
   "metadata": {},
   "outputs": [],
   "source": [
    "# Use the original RDD (nasa), apply your function to it\n",
    "# and create a DataFrame\n",
    "df = ..."
   ]
  },
  {
   "cell_type": "code",
   "execution_count": null,
   "metadata": {
    "scrolled": false
   },
   "outputs": [],
   "source": [
    "df.show()"
   ]
  },
  {
   "cell_type": "code",
   "execution_count": null,
   "metadata": {},
   "outputs": [],
   "source": [
    "df.count()"
   ]
  },
  {
   "cell_type": "code",
   "execution_count": null,
   "metadata": {},
   "outputs": [],
   "source": [
    "# How many lines without size?\n",
    "no_size.value"
   ]
  },
  {
   "cell_type": "code",
   "execution_count": null,
   "metadata": {},
   "outputs": [],
   "source": [
    "# How many lines without size?\n",
    "# Both values should match\n",
    "df.filter('size == -1').count()"
   ]
  },
  {
   "cell_type": "markdown",
   "metadata": {},
   "source": [
    "### Which hosts were responsible for the largest amount of traffic?"
   ]
  },
  {
   "cell_type": "code",
   "execution_count": null,
   "metadata": {},
   "outputs": [],
   "source": [
    "from pyspark.sql import functions as F\n",
    "\n",
    "df.groupby('host').agg(F.sum('size').alias('total_size')).orderBy(F.desc('total_size')).show()"
   ]
  },
  {
   "cell_type": "markdown",
   "metadata": {},
   "source": [
    "### Which resources were the most requested?"
   ]
  },
  {
   "cell_type": "code",
   "execution_count": null,
   "metadata": {},
   "outputs": [],
   "source": [
    "df.groupby('resource').agg(F.count(F.lit(1)).alias('count')).orderBy(F.desc('count')).limit(20).toPandas()"
   ]
  },
  {
   "cell_type": "code",
   "execution_count": null,
   "metadata": {},
   "outputs": [],
   "source": []
  }
 ],
 "metadata": {
  "kernelspec": {
   "display_name": "Python 3",
   "language": "python",
   "name": "python3"
  },
  "language_info": {
   "codemirror_mode": {
    "name": "ipython",
    "version": 3
   },
   "file_extension": ".py",
   "mimetype": "text/x-python",
   "name": "python",
   "nbconvert_exporter": "python",
   "pygments_lexer": "ipython3",
   "version": "3.6.4"
  }
 },
 "nbformat": 4,
 "nbformat_minor": 2
}

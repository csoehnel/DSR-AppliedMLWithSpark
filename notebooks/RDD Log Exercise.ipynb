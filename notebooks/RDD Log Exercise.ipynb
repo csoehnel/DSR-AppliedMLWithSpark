{
 "cells": [
  {
   "cell_type": "markdown",
   "metadata": {},
   "source": [
    "## [NASA logs for July 1995](http://ita.ee.lbl.gov/html/contrib/NASA-HTTP.html)"
   ]
  },
  {
   "cell_type": "code",
   "execution_count": null,
   "metadata": {},
   "outputs": [],
   "source": [
    "from pyspark.sql import SparkSession\n",
    "\n",
    "spark = SparkSession.builder.getOrCreate()"
   ]
  },
  {
   "cell_type": "code",
   "execution_count": null,
   "metadata": {},
   "outputs": [],
   "source": [
    "#!wget ftp://ita.ee.lbl.gov/traces/NASA_access_log_Jul95.gz\n",
    "#!gunzip NASA_access_log_Jul95.gz"
   ]
  },
  {
   "cell_type": "markdown",
   "metadata": {},
   "source": [
    "## Load logs into a RDD"
   ]
  },
  {
   "cell_type": "code",
   "execution_count": null,
   "metadata": {},
   "outputs": [],
   "source": [
    "sc = spark.sparkContext\n",
    "# INSERT CODE HERE"
   ]
  },
  {
   "cell_type": "markdown",
   "metadata": {},
   "source": [
    "### How many non-empty lines?"
   ]
  },
  {
   "cell_type": "code",
   "execution_count": null,
   "metadata": {},
   "outputs": [],
   "source": [
    "# INSERT CODE HERE"
   ]
  },
  {
   "cell_type": "markdown",
   "metadata": {},
   "source": [
    "### Create a function to parse Apache logs and, at the same time, counts malformed lines"
   ]
  },
  {
   "cell_type": "code",
   "execution_count": null,
   "metadata": {},
   "outputs": [],
   "source": [
    "import re\n",
    "# host unused user time method resource status size referer agent \n",
    "pattern = '^(\\S+) \\S+ (\\S+) \\[([\\w:/]+\\s[+\\-]\\d{4})\\] \"(\\S+)\\s?(\\S+)?\\s?(\\S+)?\" (\\d{3}|-) (\\d+|-)\\s?\"?([^\"]*)\"?\\s?\"?([^\"]*)?\"?$'\n",
    "weblog = re.compile(pattern=pattern)\n",
    "\n",
    "# TIP: you can use Accumulator to count lines\n",
    "# Make sure you return an empty string ('') \n",
    "# whenever you find a malformed line\n",
    "\n",
    "def process_logs(line):\n",
    "    # INSERT CODE HERE\n",
    "    pass"
   ]
  },
  {
   "cell_type": "code",
   "execution_count": null,
   "metadata": {},
   "outputs": [],
   "source": [
    "# Taking one row\n",
    "print(nasa.take(1)[0])"
   ]
  },
  {
   "cell_type": "code",
   "execution_count": null,
   "metadata": {},
   "outputs": [],
   "source": [
    "# Applies parsing function and \n",
    "parsed_nasa = nasa.map(process_logs)\n",
    "# Check how many empty lines you got\n",
    "parsed_nasa.filter(lambda line: line == '').count()"
   ]
  },
  {
   "cell_type": "code",
   "execution_count": null,
   "metadata": {},
   "outputs": [],
   "source": [
    "# Check the accumulator value\n",
    "# Both values should match"
   ]
  },
  {
   "cell_type": "markdown",
   "metadata": {},
   "source": [
    "### Create a function to convert a tuple into a Row object"
   ]
  },
  {
   "cell_type": "code",
   "execution_count": null,
   "metadata": {},
   "outputs": [],
   "source": [
    "import time, datetime\n",
    "\n",
    "def parse_time(str_time):\n",
    "    tt = time.strptime(str_time[:-6], \"%d/%b/%Y:%H:%M:%S\")\n",
    "    return datetime.datetime(*tt[:6])"
   ]
  },
  {
   "cell_type": "code",
   "execution_count": null,
   "metadata": {},
   "outputs": [],
   "source": [
    "from pyspark.sql import Row\n",
    "\n",
    "# The size of the response in the logs may be '-' sometimes\n",
    "# Create a function that converts the size to an integer value\n",
    "# and returns -1 for invalid sizes, while also keeping track\n",
    "# of how many times it happened in the NO_SIZE variable\n",
    "# (hint: Accumulator)\n",
    "\n",
    "no_size = ...\n",
    "\n",
    "def to_int(value):\n",
    "    # INSERT CODE HERE\n",
    "    pass\n",
    "\n",
    "# Leveraging on the previous function, that converts a line\n",
    "# from the logs into a tuple using RegEx, populate a Row object\n",
    "# to make it ready to turn into a DataFrame\n",
    "\n",
    "def log_to_row(line):\n",
    "    # INSERT CODE HERE\n",
    "    # Process the line into fields\n",
    "    \n",
    "    # If it is a malformed line, it will return an empty string\n",
    "    # So we create mock fields for it\n",
    "    if fields == '':\n",
    "        fields = [''] * 10\n",
    "        fields[2] = '01/Jan/1900:00:00:00 -0000'\n",
    "        fields[6] = 0\n",
    "\n",
    "    # INSERT CODE HERE\n",
    "    # Create a row object with all the fields\n",
    "    # host, user, time, method, resource, protocol, status, size, referer, agent\n",
    "    row = ...\n",
    "    \n",
    "    return row"
   ]
  },
  {
   "cell_type": "code",
   "execution_count": null,
   "metadata": {},
   "outputs": [],
   "source": [
    "log_to_row(nasa.take(1)[0])"
   ]
  },
  {
   "cell_type": "markdown",
   "metadata": {},
   "source": [
    "### Create a DataFrame"
   ]
  },
  {
   "cell_type": "code",
   "execution_count": null,
   "metadata": {},
   "outputs": [],
   "source": [
    "# Use the original RDD (nasa), apply your function to it\n",
    "# and create a DataFrame\n",
    "df = ..."
   ]
  },
  {
   "cell_type": "code",
   "execution_count": null,
   "metadata": {
    "scrolled": false
   },
   "outputs": [],
   "source": [
    "df.show()"
   ]
  },
  {
   "cell_type": "code",
   "execution_count": null,
   "metadata": {},
   "outputs": [],
   "source": [
    "df.count()"
   ]
  },
  {
   "cell_type": "code",
   "execution_count": null,
   "metadata": {},
   "outputs": [],
   "source": [
    "# How many lines without size?\n",
    "no_size.value"
   ]
  },
  {
   "cell_type": "code",
   "execution_count": null,
   "metadata": {},
   "outputs": [],
   "source": [
    "# How many lines without size?\n",
    "# Both values should match\n",
    "df.filter('size == -1').count()"
   ]
  },
  {
   "cell_type": "markdown",
   "metadata": {},
   "source": [
    "### Which hosts were responsible for the largest amount of traffic?"
   ]
  },
  {
   "cell_type": "code",
   "execution_count": null,
   "metadata": {},
   "outputs": [],
   "source": [
    "from pyspark.sql import functions as F\n",
    "\n",
    "df.groupby('host').agg(F.sum('size').alias('total_size')).orderBy(F.desc('total_size')).show()"
   ]
  },
  {
   "cell_type": "markdown",
   "metadata": {},
   "source": [
    "### Which resources were the most requested?"
   ]
  },
  {
   "cell_type": "code",
   "execution_count": null,
   "metadata": {},
   "outputs": [],
   "source": [
    "df.groupby('resource').agg(F.count(F.lit(1)).alias('count')).orderBy(F.desc('count')).limit(20).toPandas()"
   ]
  },
  {
   "cell_type": "code",
   "execution_count": null,
   "metadata": {},
   "outputs": [],
   "source": []
  }
 ],
 "metadata": {
  "kernelspec": {
   "display_name": "Python 3",
   "language": "python",
   "name": "python3"
  },
  "language_info": {
   "codemirror_mode": {
    "name": "ipython",
    "version": 3
   },
   "file_extension": ".py",
   "mimetype": "text/x-python",
   "name": "python",
   "nbconvert_exporter": "python",
   "pygments_lexer": "ipython3",
   "version": "3.5.0"
  }
 },
 "nbformat": 4,
 "nbformat_minor": 2
}

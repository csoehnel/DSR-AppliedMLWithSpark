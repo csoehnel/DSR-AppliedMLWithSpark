{
 "cells": [
  {
   "cell_type": "code",
   "execution_count": 1,
   "metadata": {},
   "outputs": [],
   "source": [
    "import pyspark\n",
    "sc = pyspark.SparkContext('local[*]')"
   ]
  },
  {
   "cell_type": "code",
   "execution_count": 2,
   "metadata": {},
   "outputs": [],
   "source": [
    "!rm -rf metastore_db/*.lck\n",
    "\n",
    "from pyspark.sql import SQLContext\n",
    "sqlc = SQLContext(sc)"
   ]
  },
  {
   "cell_type": "markdown",
   "metadata": {},
   "source": [
    "## Using User Defined Functions"
   ]
  },
  {
   "cell_type": "code",
   "execution_count": 3,
   "metadata": {},
   "outputs": [],
   "source": [
    "from numpy import NaN\n",
    "from pyspark.sql.functions import UserDefinedFunction\n",
    "from pyspark.sql.types import DoubleType\n",
    "\n",
    "udf1 = UserDefinedFunction(lambda x: NaN if x > 0.5 else x, DoubleType())\n",
    "udf2 = UserDefinedFunction(lambda x: NaN if x > 1.0 else x, DoubleType())"
   ]
  },
  {
   "cell_type": "code",
   "execution_count": 4,
   "metadata": {},
   "outputs": [],
   "source": [
    "from pyspark.sql.functions import rand, randn\n",
    "\n",
    "df = sqlc.range(0, 5).withColumn(\"uniform\", rand(7)).withColumn(\"normal\", randn(7))\n",
    "\n",
    "dfnan = df.withColumn(\"nanUniform\", udf1(\"uniform\")) \\\n",
    "          .withColumn(\"nanNormal\", udf2(\"normal\")) \\\n",
    "          .drop(\"uniform\").withColumnRenamed(\"nanUniform\", \"uniform\") \\\n",
    "          .drop(\"normal\").withColumnRenamed(\"nanNormal\", \"normal\")"
   ]
  },
  {
   "cell_type": "code",
   "execution_count": 5,
   "metadata": {},
   "outputs": [
    {
     "name": "stdout",
     "output_type": "stream",
     "text": [
      "+---+-------------------+--------------------+\n",
      "| id|            uniform|              normal|\n",
      "+---+-------------------+--------------------+\n",
      "|  0|                NaN| -1.2904230199480902|\n",
      "|  1|0.06498948189958098|-0.05248092572410684|\n",
      "|  2|                NaN|                 NaN|\n",
      "|  3|0.41371264720975787| -0.5877482396744728|\n",
      "|  4|                NaN|                 NaN|\n",
      "+---+-------------------+--------------------+\n",
      "\n"
     ]
    }
   ],
   "source": [
    "dfnan.show()"
   ]
  },
  {
   "cell_type": "markdown",
   "metadata": {},
   "source": [
    "## NA Functions"
   ]
  },
  {
   "cell_type": "markdown",
   "metadata": {},
   "source": [
    "### Drop"
   ]
  },
  {
   "cell_type": "code",
   "execution_count": 6,
   "metadata": {},
   "outputs": [
    {
     "name": "stdout",
     "output_type": "stream",
     "text": [
      "+---+-------------------+--------------------+\n",
      "| id|            uniform|              normal|\n",
      "+---+-------------------+--------------------+\n",
      "|  0|                NaN| -1.2904230199480902|\n",
      "|  1|0.06498948189958098|-0.05248092572410684|\n",
      "|  3|0.41371264720975787| -0.5877482396744728|\n",
      "+---+-------------------+--------------------+\n",
      "\n"
     ]
    }
   ],
   "source": [
    "dfnan.na.drop(how='all',subset=['uniform','normal']).show()"
   ]
  },
  {
   "cell_type": "markdown",
   "metadata": {},
   "source": [
    "### Replace"
   ]
  },
  {
   "cell_type": "code",
   "execution_count": 7,
   "metadata": {},
   "outputs": [
    {
     "name": "stdout",
     "output_type": "stream",
     "text": [
      "+---+-------------------+--------------------+\n",
      "| id|            uniform|              normal|\n",
      "+---+-------------------+--------------------+\n",
      "|  0|                0.0| -1.2904230199480902|\n",
      "|  1|0.06498948189958098|-0.05248092572410684|\n",
      "|  2|                0.0|                 NaN|\n",
      "|  3|0.41371264720975787| -0.5877482396744728|\n",
      "|  4|                0.0|                 NaN|\n",
      "+---+-------------------+--------------------+\n",
      "\n"
     ]
    }
   ],
   "source": [
    "dfnan.na.replace([NaN],[0.0], 'uniform').show()"
   ]
  },
  {
   "cell_type": "markdown",
   "metadata": {},
   "source": [
    "### Fill"
   ]
  },
  {
   "cell_type": "code",
   "execution_count": 8,
   "metadata": {},
   "outputs": [
    {
     "name": "stdout",
     "output_type": "stream",
     "text": [
      "+---+-------------------+--------------------+\n",
      "| id|            uniform|              normal|\n",
      "+---+-------------------+--------------------+\n",
      "|  0|                0.0| -1.2904230199480902|\n",
      "|  1|0.06498948189958098|-0.05248092572410684|\n",
      "|  2|                0.0|                 1.0|\n",
      "|  3|0.41371264720975787| -0.5877482396744728|\n",
      "|  4|                0.0|                 1.0|\n",
      "+---+-------------------+--------------------+\n",
      "\n"
     ]
    }
   ],
   "source": [
    "dfnan.na.fill({'uniform': 0.0, 'normal': 1.0}).show()"
   ]
  },
  {
   "cell_type": "code",
   "execution_count": 9,
   "metadata": {},
   "outputs": [
    {
     "name": "stdout",
     "output_type": "stream",
     "text": [
      "+-------+-------------------+--------------------+\n",
      "|summary|            uniform|              normal|\n",
      "+-------+-------------------+--------------------+\n",
      "|  count|                  2|                   2|\n",
      "|   mean|0.23935106455466942|-0.32011458269928983|\n",
      "| stddev|0.24658451494766348|  0.3784911474418124|\n",
      "|    min|0.06498948189958098| -0.5877482396744728|\n",
      "|    max|0.41371264720975787|-0.05248092572410684|\n",
      "+-------+-------------------+--------------------+\n",
      "\n"
     ]
    }
   ],
   "source": [
    "dfsummary = dfnan.drop(\"id\").na.drop(how='any').describe()\n",
    "dfsummary.show()"
   ]
  },
  {
   "cell_type": "code",
   "execution_count": 10,
   "metadata": {},
   "outputs": [
    {
     "name": "stdout",
     "output_type": "stream",
     "text": [
      "0.23935106455466942\n"
     ]
    }
   ],
   "source": [
    "uniformMean = float(dfsummary.rdd.collect()[1][1])\n",
    "print(uniformMean)"
   ]
  },
  {
   "cell_type": "code",
   "execution_count": 11,
   "metadata": {},
   "outputs": [
    {
     "data": {
      "text/html": [
       "<div>\n",
       "<style scoped>\n",
       "    .dataframe tbody tr th:only-of-type {\n",
       "        vertical-align: middle;\n",
       "    }\n",
       "\n",
       "    .dataframe tbody tr th {\n",
       "        vertical-align: top;\n",
       "    }\n",
       "\n",
       "    .dataframe thead th {\n",
       "        text-align: right;\n",
       "    }\n",
       "</style>\n",
       "<table border=\"1\" class=\"dataframe\">\n",
       "  <thead>\n",
       "    <tr style=\"text-align: right;\">\n",
       "      <th></th>\n",
       "      <th>uniform</th>\n",
       "      <th>normal</th>\n",
       "    </tr>\n",
       "    <tr>\n",
       "      <th>summary</th>\n",
       "      <th></th>\n",
       "      <th></th>\n",
       "    </tr>\n",
       "  </thead>\n",
       "  <tbody>\n",
       "    <tr>\n",
       "      <th>count</th>\n",
       "      <td>2</td>\n",
       "      <td>2</td>\n",
       "    </tr>\n",
       "    <tr>\n",
       "      <th>mean</th>\n",
       "      <td>0.23935106455466942</td>\n",
       "      <td>-0.32011458269928983</td>\n",
       "    </tr>\n",
       "    <tr>\n",
       "      <th>stddev</th>\n",
       "      <td>0.24658451494766348</td>\n",
       "      <td>0.3784911474418124</td>\n",
       "    </tr>\n",
       "    <tr>\n",
       "      <th>min</th>\n",
       "      <td>0.06498948189958098</td>\n",
       "      <td>-0.5877482396744728</td>\n",
       "    </tr>\n",
       "    <tr>\n",
       "      <th>max</th>\n",
       "      <td>0.41371264720975787</td>\n",
       "      <td>-0.05248092572410684</td>\n",
       "    </tr>\n",
       "  </tbody>\n",
       "</table>\n",
       "</div>"
      ],
      "text/plain": [
       "                     uniform                normal\n",
       "summary                                           \n",
       "count                      2                     2\n",
       "mean     0.23935106455466942  -0.32011458269928983\n",
       "stddev   0.24658451494766348    0.3784911474418124\n",
       "min      0.06498948189958098   -0.5877482396744728\n",
       "max      0.41371264720975787  -0.05248092572410684"
      ]
     },
     "execution_count": 11,
     "metadata": {},
     "output_type": "execute_result"
    }
   ],
   "source": [
    "pandasSummary = dfsummary.toPandas().set_index(\"summary\")\n",
    "pandasSummary"
   ]
  },
  {
   "cell_type": "code",
   "execution_count": 12,
   "metadata": {},
   "outputs": [
    {
     "name": "stdout",
     "output_type": "stream",
     "text": [
      "0.23935106455466942\n"
     ]
    }
   ],
   "source": [
    "uniformMean = float(pandasSummary.loc['mean'].uniform)\n",
    "print(uniformMean)"
   ]
  },
  {
   "cell_type": "code",
   "execution_count": 13,
   "metadata": {},
   "outputs": [
    {
     "name": "stdout",
     "output_type": "stream",
     "text": [
      "-0.32011458269928983\n"
     ]
    }
   ],
   "source": [
    "normalMean = float(pandasSummary.loc['mean'].normal)\n",
    "print(normalMean)"
   ]
  },
  {
   "cell_type": "code",
   "execution_count": 14,
   "metadata": {},
   "outputs": [
    {
     "name": "stdout",
     "output_type": "stream",
     "text": [
      "+---+-------------------+--------------------+\n",
      "| id|            uniform|              normal|\n",
      "+---+-------------------+--------------------+\n",
      "|  0|0.23935106455466942| -1.2904230199480902|\n",
      "|  1|0.06498948189958098|-0.05248092572410684|\n",
      "|  2|0.23935106455466942|-0.32011458269928983|\n",
      "|  3|0.41371264720975787| -0.5877482396744728|\n",
      "|  4|0.23935106455466942|-0.32011458269928983|\n",
      "+---+-------------------+--------------------+\n",
      "\n"
     ]
    }
   ],
   "source": [
    "dfnan.na.fill({\"uniform\": uniformMean, \"normal\": normalMean}).show()"
   ]
  },
  {
   "cell_type": "markdown",
   "metadata": {},
   "source": [
    "## Duplicates"
   ]
  },
  {
   "cell_type": "code",
   "execution_count": null,
   "metadata": {
    "collapsed": true
   },
   "outputs": [],
   "source": [
    "dfDuplicates = dfnan.union(sc.parallelize([(5,1,1),(6,1,1)]).toDF())"
   ]
  },
  {
   "cell_type": "code",
   "execution_count": null,
   "metadata": {},
   "outputs": [],
   "source": [
    "dfDuplicates.show()"
   ]
  },
  {
   "cell_type": "code",
   "execution_count": null,
   "metadata": {},
   "outputs": [],
   "source": [
    "dfDuplicates.dropDuplicates([\"uniform\",\"normal\"]).show()"
   ]
  },
  {
   "cell_type": "code",
   "execution_count": null,
   "metadata": {
    "collapsed": true
   },
   "outputs": [],
   "source": [
    "sc.stop()"
   ]
  },
  {
   "cell_type": "code",
   "execution_count": null,
   "metadata": {
    "collapsed": true
   },
   "outputs": [],
   "source": []
  }
 ],
 "metadata": {
  "anaconda-cloud": {},
  "kernelspec": {
   "display_name": "Python 3",
   "language": "python",
   "name": "python3"
  },
  "language_info": {
   "codemirror_mode": {
    "name": "ipython",
    "version": 3
   },
   "file_extension": ".py",
   "mimetype": "text/x-python",
   "name": "python",
   "nbconvert_exporter": "python",
   "pygments_lexer": "ipython3",
   "version": "3.6.4"
  }
 },
 "nbformat": 4,
 "nbformat_minor": 1
}
